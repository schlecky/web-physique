{
 "cells": [
  {
   "cell_type": "markdown",
   "metadata": {},
   "source": [
    "# Cours d'informatique TSI1\n",
    "\n",
    "- [Architecture d'un ordinateur](#architecture)\n",
    "- [Représentation des nombres](#representation)\n",
    "- [Algorithmique et programmation](#algorithmique)\n",
    "- [Méthodes numériques](#methodes_numeriques)"
   ]
  },
  {
   "cell_type": "markdown",
   "metadata": {},
   "source": [
    "<a id='architecture'></a>\n",
    "## Architecture d'un ordinateurs\n",
    "\n",
    "Un ordinateur est une machine électronique qui execute un ensemble d'opérations arithmétiques sur des données. Les opérations sont définies dans le programme exécuté par l'ordinateur et les données sont stockées dans la mémoire de l'ordinateur.\n",
    "\n",
    "Aujourd'hui un grand nombre d'appareils électroniques sont (ou contiennent) des ordinateurs : ordinateurs, téléphones, tablettes, voitures, montres, ...\n",
    "\n",
    "Un ordinateur contient généralement les éléments suivants :\n",
    "\n",
    "- Une source d'énergie (secteur, batterie) ;\n",
    "\n",
    "![IMG-Energie](images/IMG-batterie.jpg)\n",
    "\n",
    "- Un microprocesseur qui est le composant qui execute les instructions et effectue les opérations ;\n",
    "\n",
    "![IMG-Processeur](images/IMG-processeur.jpg)\n",
    "\n",
    "- Une mémoire vive rapide qui n'est pas retenue lorsque l'alimentation est coupée (mémoire RAM);\n",
    "\n",
    "![IMG-Ram](images/IMG-ram.jpg)\n",
    "\n",
    "- Une mémoire de masse plus lente qui peut retenir l'information sans alimentation électrique (disque dur, mémoire flash, ...) ;\n",
    "\n",
    "![IMG-DD](images/IMG-disquedur.jpg) ![IMG-Energie](images/IMG-sd.jpg)\n",
    "\n",
    "- Des périphériques d'entrée sortie pour communiquer avec le monde extérieur ;\n",
    "\n",
    "![IMG-Clavier](images/IMG-clavier.jpg) ![IMG-Ecran](images/IMG-ecran.jpg)\n",
    "\n",
    "- Des ports de communication pour connecter d'autres appareils électroniques (autres ordinateurs).\n",
    "\n",
    "![IMG-Usb](images/IMG-usb.jpg)\n",
    "\n",
    "\n",
    "> **Exercice : **\n",
    ">\n",
    ">Dans quel type de mémoire est stocké un texte en train d'être tappé dans un logiciel de traitement de texte s'il n'a pas encore été enregistré ? S'il a été enregistré ? \n"
   ]
  },
  {
   "cell_type": "markdown",
   "metadata": {
    "collapsed": true
   },
   "source": [
    "<a id='representation'></a>\n",
    "## Représentation des nombres\n",
    "\n",
    "Dans un ordinateur, toutes les données (textes, images, sons, vidéos, ...) sont stockées sous forme de nombres. L'électronique et les mémoires des ordinateurs codent les nombres en base 2 (binaire) c'est à dire que les seuls chiffres utilisés sont 0 et 1.\n",
    "\n",
    "### Représentation des nombres entiers\n",
    "\n",
    "Dans la représentation habituelle en base 10 d'un nombre, chaque chiffre du nombre représente une puissance de 10. Par exemple $345 = 3\\times10^2 + 4\\times 10^2 + 5\\times 10^0$.\n",
    "\n",
    "En binaire c'est la même chose sauf que chaque chiffre d'un nombre représente une puissance de 2. Par exempe le nombre binaire $1011_2 = 1\\times 2^3 + 0\\times 2^2 + 1\\times 2^1 + 1\\times 2^0 = 8+2+1 = 11_{10}$ (L'indice indique la base dans laquelle est écrit le nombre). \n",
    "\n",
    "> **Exercice** \n",
    "> Convertir les nombres binaires suivants en notation décimale*: $11101$, $10101$, $1000$."
   ]
  },
  {
   "cell_type": "code",
   "execution_count": 5,
   "metadata": {},
   "outputs": [
    {
     "name": "stdout",
     "output_type": "stream",
     "text": [
      "29 , 21 , 8\n"
     ]
    }
   ],
   "source": [
    "print(0b11101, \",\", 0b10101,\",\", 0b1000)"
   ]
  },
  {
   "cell_type": "markdown",
   "metadata": {},
   "source": [
    "Pour convertir un nombre de la base 10 vers la base 2, il faut faire des divisions euclidiennes successives par 2 et noter les restes de droite à gauche. Par exemple pour convertir $18_{10}$ en base 2 on effectue les divisions suivantes :\n",
    "- $18/2 = 9$ reste $0$\n",
    "- $9/2 = 4$ reste $1$\n",
    "- $4/2 = 2$ reste $0$\n",
    "- $2/2 = 1$ reste $0$\n",
    "- $1/2 = 0$ reste $1$\n",
    "\n",
    "Et donc : $18_{10}$  = $10010_2$\n",
    "\n",
    "> **Exercice** : Convertir les nombres décimaux suivants en binaire : 24, 41, 100, 10"
   ]
  },
  {
   "cell_type": "code",
   "execution_count": 6,
   "metadata": {},
   "outputs": [
    {
     "name": "stdout",
     "output_type": "stream",
     "text": [
      "0b11000 , 0b101001 , 0b1100100 , 0b1010\n"
     ]
    }
   ],
   "source": [
    "print(bin(24),\",\",bin(41),\",\",bin(100),\",\",bin(10))"
   ]
  },
  {
   "cell_type": "markdown",
   "metadata": {},
   "source": [
    "Chaque chiffre d'un nombre binaire s'appelle un *bit* (**b**inary dig**it**). Il arrive très souvent que le nombre de bits utilisés pour représenter les nombres entiers dans un ordinateur soit fixe. Généralement 32 bits ou 64 bits dans les ordinateurs. Dans ces conditions il existe un nombre entier maximum représentable, qui vaut "
   ]
  },
  {
   "cell_type": "code",
   "execution_count": 7,
   "metadata": {},
   "outputs": [
    {
     "name": "stdout",
     "output_type": "stream",
     "text": [
      "4294967295\n"
     ]
    }
   ],
   "source": [
    "print(2**32-1)"
   ]
  },
  {
   "cell_type": "markdown",
   "metadata": {},
   "source": [
    "en 32 bits, et"
   ]
  },
  {
   "cell_type": "code",
   "execution_count": 8,
   "metadata": {},
   "outputs": [
    {
     "name": "stdout",
     "output_type": "stream",
     "text": [
      "18446744073709551615\n"
     ]
    }
   ],
   "source": [
    "print(2**64-1)"
   ]
  },
  {
   "cell_type": "markdown",
   "metadata": {},
   "source": [
    "en 64 bits. \n",
    "\n",
    "Lorsque l'on veut représenter des nombres entiers relatifs (signés), le premier bit est utilisé pour coder le signe du nombre ($1$ pour un nombre négatif et $0$ pour un nombre positif)."
   ]
  },
  {
   "cell_type": "markdown",
   "metadata": {},
   "source": [
    "### Représentation des nombres décimaux\n",
    "\n",
    "Pour représenter un nombre décimal dans un ordinateur on utilise la *virgule flottante*. Un nombre $r$ est représenté par un signe $s$ ($1$ ou $-1$), une mantisse $m$ et un exposant $e$ et on a $r=smb^e$ où $b$ est la base de représentation, souvent $2$.\n",
    "\n",
    "On pourrait utiliser un nombre de bits quelconque pour $m$ et $e$ mais pour faciliter la réutilisation de programmes une norme (IEEE 754) a été fixée :\n",
    "\n",
    "| Précision | Encodage | *S*igne | *E*xposant | *M*antisse | Valeur d'un nombre | Précision | Chiffres significatifs |\n",
    "| --- | --- | --- | --- | --- | --- | --- | --- |\n",
    "| Simple précision | 32 bits | 1 bit | 8 bits | 23 bits | $(-1)^S \\times M \\times 2^{(E-127)}$ | 24 bits | environ 7 |\n",
    "| Double précision | 64 bits | 1 bit | 11 bits | 52 bits | $(-1)^S \\times M \\times 2^{(E-1023)}$ | 53 bits | environ 16|\n"
   ]
  },
  {
   "cell_type": "code",
   "execution_count": 9,
   "metadata": {},
   "outputs": [
    {
     "name": "stdout",
     "output_type": "stream",
     "text": [
      "32 bits\n",
      "Mantisse la plus élevée :  8388607\n",
      "Chiffres significatifs :  7\n",
      "Nombre le plus grand :  2.854495e+45\n"
     ]
    }
   ],
   "source": [
    "print(\"32 bits\")\n",
    "print(\"Mantisse la plus élevée : \", 2**23-1); \n",
    "print(\"Chiffres significatifs : \", len(str(2**23-1))); \n",
    "print(\"Nombre le plus grand : \",'{:e}'.format((2**23-1)*2**128))"
   ]
  },
  {
   "cell_type": "code",
   "execution_count": 10,
   "metadata": {},
   "outputs": [
    {
     "name": "stdout",
     "output_type": "stream",
     "text": [
      "64 bits\n",
      "Mantisse la plus élevée :  4503599627370495\n",
      "Chiffres significatifs :  16\n",
      "Nombre le plus grand, environ :  323.908275\n",
      "8.090958991783824\n"
     ]
    }
   ],
   "source": [
    "# On utilise la bibliothèque math pour la fonction log\n",
    "from math import *\n",
    "print(\"64 bits\")\n",
    "print(\"Mantisse la plus élevée : \", 2**52-1); \n",
    "print(\"Chiffres significatifs : \", len(str(2**52-1))); \n",
    "print(\"Nombre le plus grand, environ : {: f}\".format(log10((2**52-1)*2**1024)));\n",
    "print(10**0.908)"
   ]
  },
  {
   "cell_type": "markdown",
   "metadata": {},
   "source": [
    "Le problème de ce type de représentation est que beaucoup de nombres décimaux ont une représentation infinie en virgule flottante et on fera inévitablement des erreurs d'arrondi. Par exemple :"
   ]
  },
  {
   "cell_type": "code",
   "execution_count": 11,
   "metadata": {},
   "outputs": [
    {
     "name": "stdout",
     "output_type": "stream",
     "text": [
      "0.30000000000000004\n",
      "False\n"
     ]
    }
   ],
   "source": [
    "print(0.1+0.2)\n",
    "print(0.1+0.2-0.3==0)"
   ]
  },
  {
   "cell_type": "markdown",
   "metadata": {},
   "source": [
    "Ce qui provoque comme on vient de le voir un problème si l'on veut comparer des nombres en virgule flottante. Dans ce cas on n'utilise pas de comparaison stricte avec ```==``` mais on compare si les deux nombres sont *assez proches* l'un de l'autre. Par exemple :"
   ]
  },
  {
   "cell_type": "code",
   "execution_count": 12,
   "metadata": {},
   "outputs": [
    {
     "name": "stdout",
     "output_type": "stream",
     "text": [
      "False\n",
      "True\n"
     ]
    }
   ],
   "source": [
    "a=0.3 ; b=0.1+0.2 ; eps=1e-10\n",
    "print(a==b)\n",
    "print(abs(a-b)<eps)"
   ]
  },
  {
   "cell_type": "markdown",
   "metadata": {},
   "source": [
    "On vérifie que ```a``` et ```b``` sont égaux à $10^{-10}$ près."
   ]
  },
  {
   "cell_type": "markdown",
   "metadata": {},
   "source": [
    "<a id='algorithmique'></a>\n",
    "## Algorithmique et programmation\n",
    "\n",
    "- [Algorithme](#algo)\n",
    "- [Données](#donnees)\n",
    "    - [Nombres](#nombres)\n",
    "    - [Chaines de caractères](#chainess)\n",
    "    - [Listes](#listes)\n",
    "- [Instructions élémentaires](#instructions)\n",
    "- [Fonctions](#fonctions)\n",
    "- [Fichiers](#fichiers)\n",
    "- [Analyse d'un algorithme](#analyse)\n",
    "\n",
    "<a id='algo'></a>\n",
    "### Algorithme\n",
    "\n",
    "Un algorithme correspond à une suite d'*instructions simples* qui décrivent ce que le programme doit faire pour résoudre un problème donnée. On peut assimiler un algorithme à une recette de cuisine qui donne les étapes successives pour réaliser un plat.\n",
    "\n",
    "Il faut noter que la définition d'*instruction simple* n'est pas universelle et dépend du langage de programmation utilisé. Certains langage dits de *haut niveau* comprennent des instructions bien plus compliquées que d'autres de *bas niveau*. De la même manière qu'une recette de cuisine écrite pour un grand chef ne sera probablement pas compréhensible par un cuisinier du dimanche ! (combien parmi vous savent ce qu'il faut faire lorsqu'une recette de croissants indique *puis on donne trois tours au paton ainsi obtenu* ?)\n",
    "\n",
    "Le langage Python que nous allons utiliser est un langage d'assez haut niveau, il comprend des instructions qui sont assez évoluées comparativement aux instructions que comprend directement un microprocesseur. Pour vous en convaincre voici deux version d'un programme qui affiche `Hello world` à l'écran. Le premier en python et le second en assembleur (langage très bas niveau):\n",
    "\n",
    "Python:\n",
    "\n",
    "```python\n",
    "print(\"Hello World\") \n",
    "```\n",
    "\n",
    "Assembleur :\n",
    "\n",
    "```assembly\n",
    " section .data\n",
    "        helloMsg:     db 'Hello world!',10 \n",
    "        helloSize:    equ $-helloMsg\n",
    " section .text\n",
    "        global _start\n",
    " _start:\n",
    "        mov eax,4             ; Appel système \"write\" (sys_write)\n",
    "        mov ebx,1             ; File descriptor, 1 pour STDOUT (sortie standard)\n",
    "        mov ecx, helloMsg     ; Adresse de la chaîne a afficher\n",
    "        mov edx, helloSize    ; Taille de la chaîne\n",
    "        int 80h               ; Exécution de l'appel système\n",
    "                              ; Sortie du programme\n",
    "        mov eax,1             ; Appel système \"exit\"\n",
    "        mov ebx,0             ; Code de retour\n",
    "        int 80h\n",
    "```\n",
    "\n",
    "Dans ce qui suit nous allons donner un ensemble d'instructions (non exaustif) comprises par le langage python.\n",
    "\n"
   ]
  },
  {
   "cell_type": "markdown",
   "metadata": {},
   "source": [
    "<a id='donnees'></a>\n",
    "### Données\n",
    "Les données utilisées dans un programme informatique peuvent être de plusieurs types. Dans un programme écrit en Python, elles sont le plus souvent stockées dans des *variables*.\n",
    "\n",
    "Une *variable* correspond schématiquement à un emplacement mémoire de l'ordinateur dans lequel on stocke une donnée. Elle est représentée par un nom composé d'une ou plusieurs lettres. Les lettres autorisées dans un nom de variable en Python sont tous les caractères alpha-numériques ainsi que le \"_\" (en réalité il y en a d'autres mais faisons simple...)\n",
    "\n",
    "Les données stockées dans des variables ont un *type* qui peut être entre autres :\n",
    "\n",
    "- [Nombres](#nombres)\n",
    "- [Booléens](#booleens)\n",
    "- [Chaines de caractères](#chainess)\n",
    "- [Listes](#listes)\n",
    "\n",
    "\n"
   ]
  },
  {
   "cell_type": "markdown",
   "metadata": {},
   "source": [
    "<a id='nombres'></a>\n",
    "#### Nombres\n",
    "\n",
    "Une variable peut stocker un nombre entier ou décimal."
   ]
  },
  {
   "cell_type": "code",
   "execution_count": 13,
   "metadata": {},
   "outputs": [
    {
     "name": "stdout",
     "output_type": "stream",
     "text": [
      "<class 'int'>\n",
      "<class 'float'>\n"
     ]
    }
   ],
   "source": [
    "a=123\n",
    "b=34.5\n",
    "print(type(a))\n",
    "print(type(b))"
   ]
  },
  {
   "cell_type": "markdown",
   "metadata": {},
   "source": [
    "On peut effectuer des opérations mathématiques sur les données contenues dans les variables :"
   ]
  },
  {
   "cell_type": "code",
   "execution_count": 14,
   "metadata": {},
   "outputs": [
    {
     "name": "stdout",
     "output_type": "stream",
     "text": [
      "157.5 4243.5\n"
     ]
    }
   ],
   "source": [
    "c=a+b\n",
    "d=a*b\n",
    "print(c,d)"
   ]
  },
  {
   "cell_type": "markdown",
   "metadata": {},
   "source": [
    "Pour des opérations mathématiques plus évoluées, il faut importer la bibliothèque `math` :"
   ]
  },
  {
   "cell_type": "code",
   "execution_count": 15,
   "metadata": {},
   "outputs": [
    {
     "name": "stdout",
     "output_type": "stream",
     "text": [
      "0.5000000000000001 0.8939966636005579\n"
     ]
    }
   ],
   "source": [
    "from math import *\n",
    "a=90\n",
    "b=pi/3\n",
    "c=cos(b)\n",
    "d=sin(a)\n",
    "print(c,d) "
   ]
  },
  {
   "cell_type": "markdown",
   "metadata": {},
   "source": [
    "Dans le langage Python (contrairement à d'autres) le type des variables n'est pas fixe, une variable peut changer de type."
   ]
  },
  {
   "cell_type": "code",
   "execution_count": 16,
   "metadata": {},
   "outputs": [
    {
     "name": "stdout",
     "output_type": "stream",
     "text": [
      "<class 'int'>\n",
      "<class 'float'>\n"
     ]
    }
   ],
   "source": [
    "a=10\n",
    "print(type(a))\n",
    "a=14.3\n",
    "print(type(a))"
   ]
  },
  {
   "cell_type": "markdown",
   "metadata": {},
   "source": [
    "<a id='booleens'></a>\n",
    "#### Booléens\n",
    "\n",
    "Une variable booléenne ne peut prendre que deux valeurs : `True` ou `False`. Elle est utilisée pour effectuer des opérations logiques. On peut lui appliquer les opérateurs `and, or, not`. Par exemple :"
   ]
  },
  {
   "cell_type": "code",
   "execution_count": 17,
   "metadata": {},
   "outputs": [
    {
     "name": "stdout",
     "output_type": "stream",
     "text": [
      "True True False False True\n"
     ]
    }
   ],
   "source": [
    "a= True ; b=False\n",
    "print(a, a or b, a and b, not a, a and not b)"
   ]
  },
  {
   "cell_type": "markdown",
   "metadata": {},
   "source": [
    "On utilise principalement ce type de variable dans les [instructions conditionnelles](#conditionnelles)."
   ]
  },
  {
   "cell_type": "markdown",
   "metadata": {},
   "source": [
    "<a id='chaines'></a>\n",
    "#### Chaines de caractères\n",
    "\n",
    "Une variable peut stocker un ensemble de caractères : une chaîne de caractères (*string* en anglais). En python une chaine de caractères est délimitée par des guillements doubles `\"` ou simples `'`. Par exemple : "
   ]
  },
  {
   "cell_type": "code",
   "execution_count": 18,
   "metadata": {},
   "outputs": [
    {
     "name": "stdout",
     "output_type": "stream",
     "text": [
      "<class 'str'>\n"
     ]
    }
   ],
   "source": [
    "a = \"Ceci est une chaîne de caractères\"\n",
    "b = 'et une autre chaine.'\n",
    "print(type(a))"
   ]
  },
  {
   "cell_type": "markdown",
   "metadata": {},
   "source": [
    "On peut également effectuer des opérations sur les chaînes de caractères, par exemple les concaténer (les mettre l'une à la suite de l'autre)"
   ]
  },
  {
   "cell_type": "code",
   "execution_count": 19,
   "metadata": {},
   "outputs": [
    {
     "name": "stdout",
     "output_type": "stream",
     "text": [
      "Ceci est une chaîne de caractères, et une autre chaine.\n"
     ]
    }
   ],
   "source": [
    "c = a+\", \"+b\n",
    "print(c)"
   ]
  },
  {
   "cell_type": "markdown",
   "metadata": {},
   "source": [
    "On peut accéder à un caractère donné de la chaîne grâce à l'opérateur `[]` :"
   ]
  },
  {
   "cell_type": "code",
   "execution_count": 20,
   "metadata": {},
   "outputs": [
    {
     "name": "stdout",
     "output_type": "stream",
     "text": [
      "C e u\n"
     ]
    }
   ],
   "source": [
    "print(a[0],a[1],b[3]) "
   ]
  },
  {
   "cell_type": "markdown",
   "metadata": {},
   "source": [
    "Il faut noter que la numérotation des caractères de la chaîne commence à 0. Pour connaître la taille d'une chaîne de caractères, on utilise la fonction `len()` :"
   ]
  },
  {
   "cell_type": "code",
   "execution_count": 21,
   "metadata": {},
   "outputs": [
    {
     "name": "stdout",
     "output_type": "stream",
     "text": [
      "33\n"
     ]
    }
   ],
   "source": [
    "c=len(a)\n",
    "print(c)"
   ]
  },
  {
   "cell_type": "markdown",
   "metadata": {},
   "source": [
    "<a id='listes'></a>\n",
    "#### Listes\n",
    "\n",
    "Les variables de type `list` permettent de stocker un ensemble de valeurs qui n'ont pas toutes forcément le même type. On peut initialiser une liste de la manière suivante :"
   ]
  },
  {
   "cell_type": "code",
   "execution_count": 22,
   "metadata": {
    "collapsed": true
   },
   "outputs": [],
   "source": [
    "a=[1,2,3,4.65,\"test\"]"
   ]
  },
  {
   "cell_type": "markdown",
   "metadata": {},
   "source": [
    "Pour accéder à un élément de la liste, on utilise l'opérateur `[]`, il faut noter que les indices commencent à 0. On peut compter à partir de la fin de la liste, dans ce cas les indices commencent à 1 :"
   ]
  },
  {
   "cell_type": "code",
   "execution_count": 23,
   "metadata": {},
   "outputs": [
    {
     "name": "stdout",
     "output_type": "stream",
     "text": [
      "1\n",
      "test\n",
      "5.65\n",
      "test 4.65\n"
     ]
    }
   ],
   "source": [
    "print(a[0])\n",
    "print(a[4])\n",
    "c=a[0] + a[3]\n",
    "print(c)\n",
    "print(a[-1],a[-2])\n"
   ]
  },
  {
   "cell_type": "markdown",
   "metadata": {},
   "source": [
    "On peut concaténer plusieurs listes avec l'opérateur `+` :"
   ]
  },
  {
   "cell_type": "code",
   "execution_count": 24,
   "metadata": {},
   "outputs": [
    {
     "name": "stdout",
     "output_type": "stream",
     "text": [
      "[1, 2, 3, 4] [5, 6, 7, 8] [1, 2, 3, 4, 5, 6, 7, 8]\n"
     ]
    }
   ],
   "source": [
    "a=[1,2,3,4]\n",
    "b=[5,6,7,8]\n",
    "c=a+b\n",
    "print(a,b,c)"
   ]
  },
  {
   "cell_type": "markdown",
   "metadata": {},
   "source": [
    "Pour ajouter un élément à la fin d'une liste, on peut au choix utiliser l'opérateur `+` ou la fonction `append` :"
   ]
  },
  {
   "cell_type": "code",
   "execution_count": 25,
   "metadata": {},
   "outputs": [
    {
     "name": "stdout",
     "output_type": "stream",
     "text": [
      "[1, 2, 3, 4]\n",
      "[1, 2, 3, 4, 5]\n",
      "[1, 2, 3, 4, 5, 6]\n"
     ]
    }
   ],
   "source": [
    "a=[1,2,3,4]\n",
    "print(a)\n",
    "a = a+[5]     # utilisation de l'opérateur +\n",
    "print(a)\n",
    "a.append(6)   # utilisation de append\n",
    "print(a)"
   ]
  },
  {
   "cell_type": "markdown",
   "metadata": {},
   "source": [
    "On peut extraire une sous-liste d'une liste en utilisant la notation `a[indice_debut,indice_fin]` on obtient alors la liste composé des élément dont l'indice est supérieur ou égal à `indice_debut` et strictement inférieur à `indice_fin`"
   ]
  },
  {
   "cell_type": "code",
   "execution_count": 26,
   "metadata": {},
   "outputs": [
    {
     "name": "stdout",
     "output_type": "stream",
     "text": [
      "[2, 3, 4]\n",
      "[1, 2, 3]\n",
      "[3, 4, 5, 6]\n"
     ]
    }
   ],
   "source": [
    "print(a[1:4])\n",
    "\n",
    "# Si l'indice de début est omis il vaut 0 par défaut\n",
    "# Si l'indide de fin est omis, on va jusqu'au bout de la liste\n",
    "print(a[:3])\n",
    "print(a[2:])"
   ]
  },
  {
   "cell_type": "markdown",
   "metadata": {},
   "source": [
    "Pour supprimer un élément d'une liste on peut soit concaténer deux sous-listes, soit utiliser la fonction `del()` :"
   ]
  },
  {
   "cell_type": "code",
   "execution_count": 27,
   "metadata": {},
   "outputs": [
    {
     "name": "stdout",
     "output_type": "stream",
     "text": [
      "[1, 2, 3, 4, 5, 6]\n",
      "[1, 2, 3, 5, 6]\n",
      "[1, 2, 3, 5, 6]\n"
     ]
    }
   ],
   "source": [
    "print(a)\n",
    "b=a[:3]+a[4:]    # Concaténation de deux sous-listes\n",
    "print(b)\n",
    "del a[3]         # Utilisation de del()\n",
    "print(a)"
   ]
  },
  {
   "cell_type": "markdown",
   "metadata": {},
   "source": [
    "<a id='instructions'></a>\n",
    "### Instructions élémentaires\n",
    "\n",
    "#### Opération de calcul\n",
    "\n",
    "Pour effectuer des calculs numériques python dispose des opérateurs mathématiques usuels addition, soustraction, multiplication et division : `+,-,*,/`. L'opérateur puissance est `**`."
   ]
  },
  {
   "cell_type": "code",
   "execution_count": 28,
   "metadata": {},
   "outputs": [
    {
     "name": "stdout",
     "output_type": "stream",
     "text": [
      "7.7 -2.2 19.95 151.83521766968298\n"
     ]
    }
   ],
   "source": [
    "a=3.5; b=4.2; c=5.7\n",
    "print(a+b,a-c,a*c,b**a)"
   ]
  },
  {
   "cell_type": "markdown",
   "metadata": {},
   "source": [
    "Pour des opérations mathématiques plus complexes, on importe la bibliothèque math. Elle donne accès entre autre aux fonction `sin, cos, tan, acos, asin, atan, sqrt, log, log10, exp` et aux constantes `pi` et `e`."
   ]
  },
  {
   "cell_type": "code",
   "execution_count": 29,
   "metadata": {},
   "outputs": [
    {
     "name": "stdout",
     "output_type": "stream",
     "text": [
      "-0.4999999999999998 20.085536923187668 2.718281828459045 3.0\n"
     ]
    }
   ],
   "source": [
    "from math import *\n",
    "print(cos(2*pi/3), exp(3), e, log10(1000))"
   ]
  },
  {
   "cell_type": "markdown",
   "metadata": {},
   "source": [
    "On peut aussi effectuer des opérations logiques entre variables booléennes :"
   ]
  },
  {
   "cell_type": "code",
   "execution_count": 30,
   "metadata": {},
   "outputs": [
    {
     "name": "stdout",
     "output_type": "stream",
     "text": [
      "et :\n",
      "True and False =  False\n",
      "True and True =  True\n",
      "False and False =  False\n",
      "\n",
      "ou :\n",
      "True or False =  True\n",
      "True or True =  True\n",
      "False or False =  False\n",
      "\n",
      "non :\n",
      "not False =  True\n",
      "not True =  False\n"
     ]
    }
   ],
   "source": [
    "print(\"et :\")\n",
    "print(\"True and False = \", True and False)\n",
    "print(\"True and True = \", True and True)\n",
    "print(\"False and False = \", False and False)\n",
    "print(\"\")\n",
    "print(\"ou :\")\n",
    "print(\"True or False = \", True or False)\n",
    "print(\"True or True = \", True or True)\n",
    "print(\"False or False = \", False or False)\n",
    "print(\"\")\n",
    "print(\"non :\")\n",
    "print(\"not False = \", not False)\n",
    "print(\"not True = \", not True)"
   ]
  },
  {
   "cell_type": "markdown",
   "metadata": {},
   "source": [
    "<a id='conditionnelles'></a>\n",
    "#### Conditionnelles\n",
    "Une instruction conditionnelle permet de modifier l'execution d'un programme selon qu'une expression booléenne est vrai ou fausse. on utilise pour cela l'instruction `if` (si) que l'on peut (mais ça n'est pas obligatoire) faire suivre d'un `else` (sinon) :"
   ]
  },
  {
   "cell_type": "code",
   "execution_count": 31,
   "metadata": {},
   "outputs": [
    {
     "name": "stdout",
     "output_type": "stream",
     "text": [
      "a est plus grand que b\n",
      "13 13\n"
     ]
    }
   ],
   "source": [
    "a=13\n",
    "b=12\n",
    "if a>b:\n",
    "    print(\"a est plus grand que b\")\n",
    "    b=a\n",
    "else:\n",
    "    print(\"b est le plus grand\")\n",
    "    a=b\n",
    "print(a,b)"
   ]
  },
  {
   "cell_type": "markdown",
   "metadata": {},
   "source": [
    "#### Boucles\n",
    "Les boucles permettent d'exécuter la même portion de code plusieurs fois. Vous ne devez *jamais* faire de copier-coller lorsque vous écrivez un programme, lorsque vous avez envie d'en faire un, il faut penser à utiliser une boucle.\n",
    "\n",
    "Il existe en gros deux types de boucles :\n",
    "- La boucle `for` lorsqu'on connait a priori le nombre de fois que l'on souhaite executer la boucle\n",
    "- La boucle `while` lorsqu'on ne connait pas à l'avance le nombre d'itérations\n",
    "\n",
    "##### Boucle For\n",
    "Par exemple si on souhaite afficher 10 fois le même message :"
   ]
  },
  {
   "cell_type": "code",
   "execution_count": 32,
   "metadata": {},
   "outputs": [
    {
     "name": "stdout",
     "output_type": "stream",
     "text": [
      "Le même message\n",
      "Le même message\n",
      "Le même message\n",
      "Le même message\n",
      "Le même message\n",
      "Le même message\n",
      "Le même message\n",
      "Le même message\n",
      "Le même message\n",
      "Le même message\n"
     ]
    }
   ],
   "source": [
    "for i in range(10):\n",
    "    print(\"Le même message\")"
   ]
  },
  {
   "cell_type": "markdown",
   "metadata": {},
   "source": [
    "Dans ce cas, *l'indice* `i` prend successivement les valeurs $0,1,2,\\ldots,9$. On peut le vérifier facilement de la manière suivante :"
   ]
  },
  {
   "cell_type": "code",
   "execution_count": 33,
   "metadata": {},
   "outputs": [
    {
     "name": "stdout",
     "output_type": "stream",
     "text": [
      "Valeur de l'indice : 0\n",
      "Valeur de l'indice : 1\n",
      "Valeur de l'indice : 2\n",
      "Valeur de l'indice : 3\n",
      "Valeur de l'indice : 4\n",
      "Valeur de l'indice : 5\n",
      "Valeur de l'indice : 6\n",
      "Valeur de l'indice : 7\n",
      "Valeur de l'indice : 8\n",
      "Valeur de l'indice : 9\n"
     ]
    }
   ],
   "source": [
    "for i in range(10):\n",
    "    print(\"Valeur de l'indice :\",i)"
   ]
  },
  {
   "cell_type": "markdown",
   "metadata": {},
   "source": [
    "Pour être plus général, on peut utiliser `range(début,fin,pas)` pour que l'indice commence à `début`, soit augmenté de `pas` à chaque itération et la boucle continue tant que l'indice est strictement inférieur à `fin` :"
   ]
  },
  {
   "cell_type": "code",
   "execution_count": 34,
   "metadata": {},
   "outputs": [
    {
     "name": "stdout",
     "output_type": "stream",
     "text": [
      "5\n",
      "7\n",
      "9\n"
     ]
    }
   ],
   "source": [
    "for i in range(5,10,2):\n",
    "    print(i)"
   ]
  },
  {
   "cell_type": "markdown",
   "metadata": {},
   "source": [
    "On peut utiliser une boucle `for` par exemple pour compter le nombre d'apparition d'un caractère donné dans une chaine de caractères."
   ]
  },
  {
   "cell_type": "code",
   "execution_count": 35,
   "metadata": {},
   "outputs": [
    {
     "name": "stdout",
     "output_type": "stream",
     "text": [
      "dans ' Ceci est une chaine de test ' il y a 6 fois la lettre 'e'\n"
     ]
    }
   ],
   "source": [
    "chaine = \"Ceci est une chaine de test\"\n",
    "# comptons le nombre de 'e' contenus dans la chaine\n",
    "compteur = 0\n",
    "for i in range(len(chaine)):\n",
    "    if chaine[i]=='e' :\n",
    "        compteur = compteur+1\n",
    "print(\"dans '\", chaine, \"' il y a\", compteur,\"fois la lettre 'e'\")"
   ]
  },
  {
   "cell_type": "markdown",
   "metadata": {},
   "source": [
    "On peut aussi plus simplement parcourir les éléments d'une chaine de caractères ou d'une liste directement :"
   ]
  },
  {
   "cell_type": "code",
   "execution_count": 36,
   "metadata": {},
   "outputs": [
    {
     "name": "stdout",
     "output_type": "stream",
     "text": [
      "dans ' Ceci est une chaine de test ' il y a 6 fois la lettre 'e'\n"
     ]
    }
   ],
   "source": [
    "chaine = \"Ceci est une chaine de test\"\n",
    "# comptons le nombre de 'e' contenus dans la chaine\n",
    "compteur = 0\n",
    "for c in chaine:\n",
    "    if c=='e' :\n",
    "        compteur = compteur+1\n",
    "print(\"dans '\", chaine, \"' il y a\", compteur,\"fois la lettre 'e'\")"
   ]
  },
  {
   "cell_type": "markdown",
   "metadata": {},
   "source": [
    "##### Boucle While\n",
    "On utilise la boucle `while` lorsque le nombre d'itérations n'est pas connu à l'avance. Par exemple on peut chercher à déterminer la position de la première apparition d'un caractère dans une chaine:"
   ]
  },
  {
   "cell_type": "code",
   "execution_count": 37,
   "metadata": {},
   "outputs": [
    {
     "name": "stdout",
     "output_type": "stream",
     "text": [
      "Le caractère t n'apparait pas dans la chaine de caractères.\n"
     ]
    }
   ],
   "source": [
    "chaine = \"Ceci est une chaine de test\"\n",
    "i=0\n",
    "while i<len(chaine) and chaine[i]!='k':\n",
    "    i=i+1\n",
    "if i<len(chaine):\n",
    "    print(\"Le caractère t apparait pour la première fois à la position :\",i)\n",
    "else:\n",
    "    print(\"Le caractère t n'apparait pas dans la chaine de caractères.\")"
   ]
  },
  {
   "cell_type": "markdown",
   "metadata": {},
   "source": [
    "Lorsqu'on utilise une boucle while il faut vérifier attentivement que la boucle va effectivement s'arrêter, sinon le programme risque de ne jamais se terminer."
   ]
  },
  {
   "cell_type": "code",
   "execution_count": 38,
   "metadata": {},
   "outputs": [
    {
     "ename": "KeyboardInterrupt",
     "evalue": "",
     "output_type": "error",
     "traceback": [
      "\u001b[0;31m---------------------------------------------------------------------------\u001b[0m",
      "\u001b[0;31mKeyboardInterrupt\u001b[0m                         Traceback (most recent call last)",
      "\u001b[0;32m<ipython-input-38-2f707a1de7dc>\u001b[0m in \u001b[0;36m<module>\u001b[0;34m()\u001b[0m\n\u001b[1;32m      2\u001b[0m \u001b[0mi\u001b[0m\u001b[0;34m=\u001b[0m\u001b[0;36m10\u001b[0m\u001b[0;34m\u001b[0m\u001b[0m\n\u001b[1;32m      3\u001b[0m \u001b[0mt\u001b[0m\u001b[0;34m=\u001b[0m\u001b[0;36m0\u001b[0m\u001b[0;34m\u001b[0m\u001b[0m\n\u001b[0;32m----> 4\u001b[0;31m \u001b[0;32mwhile\u001b[0m \u001b[0mi\u001b[0m\u001b[0;34m<\u001b[0m\u001b[0;36m14\u001b[0m\u001b[0;34m:\u001b[0m\u001b[0;34m\u001b[0m\u001b[0m\n\u001b[0m\u001b[1;32m      5\u001b[0m    \u001b[0mt\u001b[0m\u001b[0;34m=\u001b[0m\u001b[0mt\u001b[0m\u001b[0;34m+\u001b[0m\u001b[0;36m1\u001b[0m\u001b[0;34m\u001b[0m\u001b[0m\n",
      "\u001b[0;31mKeyboardInterrupt\u001b[0m: "
     ]
    }
   ],
   "source": [
    "# Ce programme ne s'arrêtera jamais !\n",
    "i=10\n",
    "t=0\n",
    "while i<14:\n",
    "   t=t+1 "
   ]
  },
  {
   "cell_type": "markdown",
   "metadata": {},
   "source": [
    "\n",
    "> **Exercice : ** \n",
    "> \n",
    "> Écrire un jeu dans lequel l'ordinateur choisit un nombre aléatoire entre 1 et 100 et l'utilisateur a plusieurs essais pour deviner le nombre choisi. À chaque essai l'ordinateur indique à l'utilisateur si le nombre proposé est supérieur ou inférieur au nombre choisi. Lorsque l'utilisateur trouve le nombre en question, le programme devra afficher le nombre d'essais."
   ]
  },
  {
   "cell_type": "markdown",
   "metadata": {},
   "source": [
    "Pour obtenir un nombre aléatoire en python, on peut utiliser la fonction [`randint()`](https://docs.python.org/3/library/random.html#random.randint) de la bibliothèque [`random`](https://docs.python.org/3/library/random.html):"
   ]
  },
  {
   "cell_type": "code",
   "execution_count": 39,
   "metadata": {},
   "outputs": [
    {
     "name": "stdout",
     "output_type": "stream",
     "text": [
      "50\n"
     ]
    }
   ],
   "source": [
    "from random import *\n",
    "a = randint(0,100)\n",
    "print(a)"
   ]
  },
  {
   "cell_type": "markdown",
   "metadata": {},
   "source": [
    "<a id='fonctions'></a>\n",
    "### Fonctions\n",
    "\n",
    "Lorsqu'on écrit un programme, il arrive aussi très souvent qu'une même série d'instructions soit utilisée à plusieurs endroits du programme. Dans ce cas, il est très peu efficace de faire du copier-coller de la partie du programme à utiliser. En effet si on se rend compte que ce bout de programme doit être modifié, il faudra retrouver dans le programme, tous les endroits où on l'a copié.\n",
    "\n",
    "Pour pallier ce problème on utilise des fonctions. Une fonction peut être vue comme un sous-programme que l'on peut utiliser à plusieurs endroits du programme principal. \n",
    "\n",
    "Par exemple, on peut écrire une fonction qui affiche les 10 premiers nombres entiers :"
   ]
  },
  {
   "cell_type": "code",
   "execution_count": 40,
   "metadata": {
    "collapsed": true
   },
   "outputs": [],
   "source": [
    "def afficheEntiers():\n",
    "    for i in range(10):\n",
    "        print(i)"
   ]
  },
  {
   "cell_type": "markdown",
   "metadata": {},
   "source": [
    "Et on peut utiliser cette fonction à plusieurs endroits d'un même programme : "
   ]
  },
  {
   "cell_type": "code",
   "execution_count": 41,
   "metadata": {},
   "outputs": [
    {
     "name": "stdout",
     "output_type": "stream",
     "text": [
      "Les premiers nombres entiers sont :\n",
      "0\n",
      "1\n",
      "2\n",
      "3\n",
      "4\n",
      "5\n",
      "6\n",
      "7\n",
      "8\n",
      "9\n",
      "Rappelons que les premiers entiers sont :\n",
      "0\n",
      "1\n",
      "2\n",
      "3\n",
      "4\n",
      "5\n",
      "6\n",
      "7\n",
      "8\n",
      "9\n"
     ]
    }
   ],
   "source": [
    "print(\"Les premiers nombres entiers sont :\")\n",
    "afficheEntiers()\n",
    "print(\"Rappelons que les premiers entiers sont :\")\n",
    "afficheEntiers()"
   ]
  },
  {
   "cell_type": "markdown",
   "metadata": {},
   "source": [
    "De cette manière, si on décide plus tard que l'on veut finalement afficher les 5 premiers entiers, il suffira de modifier la fonction `afficheEntiers()`.\n",
    "\n",
    "Si on veut fournir des données à la fonction lors de son appel, on peut lui passer un certain nombre de *paramètres*. La fonction peut également *retourner* une valeur au programme qui l'appelle. On peut, par exemple, utiliser cela pour coder une fonction mathématique comme $f(x)=3x^2 + 5$ :"
   ]
  },
  {
   "cell_type": "code",
   "execution_count": 42,
   "metadata": {},
   "outputs": [
    {
     "name": "stdout",
     "output_type": "stream",
     "text": [
      "La valeur de f(5) est :  80\n",
      "La valeur de f(10) est :  305\n"
     ]
    }
   ],
   "source": [
    "def f(x):\n",
    "    return 3*x**2+5\n",
    "\n",
    "c=f(5)\n",
    "print(\"La valeur de f(5) est : \",c)\n",
    "print(\"La valeur de f(10) est : \",f(10))"
   ]
  },
  {
   "cell_type": "markdown",
   "metadata": {},
   "source": [
    "Une fonction peut prendre plusieurs paramètres, mais ne revoie qu'une seule valeur. Si l'on veut renvoyer plusieurs valeurs, on peut renvoyer un tableau qui contient les valeurs de retour :"
   ]
  },
  {
   "cell_type": "code",
   "execution_count": 43,
   "metadata": {},
   "outputs": [
    {
     "name": "stdout",
     "output_type": "stream",
     "text": [
      "15\n"
     ]
    }
   ],
   "source": [
    "def plusGrand(a,b):\n",
    "    if a>b :\n",
    "        return a\n",
    "    else :\n",
    "        return b\n",
    "\n",
    "print(plusGrand(10,15))"
   ]
  },
  {
   "cell_type": "code",
   "execution_count": 44,
   "metadata": {},
   "outputs": [
    {
     "name": "stdout",
     "output_type": "stream",
     "text": [
      "[54, 23]\n",
      "[67, 54]\n"
     ]
    }
   ],
   "source": [
    "def deuxPlusGrands(a,b,c):\n",
    "    r1=r2=0\n",
    "    if a>b :\n",
    "        r1=a\n",
    "        r2=plusGrand(b,c)\n",
    "    else:\n",
    "        r1=b\n",
    "        r2=plusGrand(a,c)\n",
    "    return [r1,r2]\n",
    "\n",
    "\n",
    "print(deuxPlusGrands(12,54,23))\n",
    "print(deuxPlusGrands(67,54,23))"
   ]
  },
  {
   "cell_type": "markdown",
   "metadata": {},
   "source": [
    "Les paramètres d'une fonction sont des *variables locales* qui n'ont de sens qu'à l'intérieur de la fonction. Leur valeur est fixée au moment de l'appel de la fonction. Le programme principal peut comporter une variable qui porte le même nom sans que ça ne pose de problème."
   ]
  },
  {
   "cell_type": "code",
   "execution_count": 45,
   "metadata": {},
   "outputs": [
    {
     "name": "stdout",
     "output_type": "stream",
     "text": [
      "10\n",
      "34\n"
     ]
    }
   ],
   "source": [
    "def afficheNombre(i):\n",
    "    print(i)\n",
    "    \n",
    "i=5\n",
    "afficheNombre(10)\n",
    "a=34\n",
    "afficheNombre(a)"
   ]
  },
  {
   "cell_type": "markdown",
   "metadata": {},
   "source": [
    "> **Exercice : **\n",
    ">\n",
    "> Écrire une fonction `secondDegre(a,b,c)` qui prend en paramètres trois nombres $a$, $b$ et $c$ et renvoie les deux solutions de l'équation du second degré : $ax^2+bx+c=0$. Si les solutions de l'équation ne sont pas réelles, la fonction devra afficher une erreur en renvoyer deux fois la valeur $0$."
   ]
  },
  {
   "cell_type": "markdown",
   "metadata": {},
   "source": [
    "<a id='fichiers'></a>\n",
    "### Fichiers\n",
    "\n",
    "Un programme informatique nécessite très souvent d'enregistrer des données sur une mémoire non volatile, c'est à dire qui persiste même lorsque l'alimentation électrique est coupée. Les données sur le disque dur d'un ordinateur sont stockées sous forme de fichiers.\n",
    "\n",
    "On peut créer, lire et écrire des fichiers à partir d'un programme python.\n",
    "\n",
    "Dans tous les cas, il faut ouvrir le fichier avec la fonction [`fich=open(nom,mode)`](https://docs.python.org/3/library/functions.html#open). `nom` est le nom de fichier à ouvrir et mode est le mode d'ouverture du fichier. Les trois modes d'ouverture principaux sont :\n",
    "* 'r' : (read) pour ouvrir le fichier en mode lecture, on ne pourra rien écrire dedans ;\n",
    "* 'w' : (write) pour ouvrir le fichier en mode écriture. Si le fichier n'existe pas il est créé, si le fichier existe déjà il est remplacé ;\n",
    "* 'a' : (append) pour ajouter des données à la fin d'un fichier. Si le fichier n'existe pas il est créé.\n",
    "\n",
    "Pour lire les données d'un fichier on utilise la fonction [`fich.read(n)`](https://docs.python.org/3.6/tutorial/inputoutput.html#methods-of-file-objects) qui renvoie la chaine de caractère composée des `n` premiers caractères du fichier. Lorsuqu'on appelle à nouveau la fonction `read(n)` ce sont les `n` caractères suivants qui sont renvoyés. Si le nombre `n` est omis, la totalité du fichier est lue.\n",
    "\n",
    "On peut lire une seule ligne de caractères en utilisant la fonction [`fich.readline()`](https://docs.python.org/3.6/tutorial/inputoutput.html#methods-of-file-objects).\n",
    "\n",
    "Pour écrire la chaine de caractères `chaine` dans un fichier on utilise la fonction [`fich.write(chaine)`](https://docs.python.org/3.6/tutorial/inputoutput.html#methods-of-file-objects).\n",
    "\n",
    "Lorsqu'on a terminé d'utiliser un fichier il faut le fermer en appelant la fonction `fich.close()`.\n",
    "\n",
    "En guise d'exemple, le programme suivant crée un fichier nommé `nombres.txt` Dans lequel il écrit les 100 premiers nombres entiers. Ensuite il ouvre à nouveau le fichier en lecture et affiche son contenu."
   ]
  },
  {
   "cell_type": "code",
   "execution_count": 46,
   "metadata": {},
   "outputs": [
    {
     "name": "stdout",
     "output_type": "stream",
     "text": [
      "0123456789101112131415161718192021222324252627282930313233343536373839404142434445464748495051525354555657585960616263646566676869707172737475767778798081828384858687888990919293949596979899\n"
     ]
    }
   ],
   "source": [
    "fich = open(\"nombres.txt\",\"w\")\n",
    "for i in range(100):\n",
    "    fich.write(str(i))\n",
    "fich.close()\n",
    "\n",
    "fich = open(\"nombres.txt\",\"r\")\n",
    "contenu = fich.read()\n",
    "print(contenu)\n",
    "fich.close()\n"
   ]
  },
  {
   "cell_type": "markdown",
   "metadata": {},
   "source": [
    "Pour insérer un saut de ligne (passer à la ligne suivante) il faut insérer le caractère spécial `'\\n'`. Par exemple si on veut écrire chacun des nombres sur une ligne différente on peut faire :"
   ]
  },
  {
   "cell_type": "code",
   "execution_count": 47,
   "metadata": {},
   "outputs": [
    {
     "name": "stdout",
     "output_type": "stream",
     "text": [
      "0\n",
      "\n",
      "1\n",
      "\n",
      "2\n",
      "\n",
      "3\n",
      "\n",
      "4\n",
      "\n"
     ]
    }
   ],
   "source": [
    "fich = open(\"nombres.txt\",\"w\")\n",
    "for i in range(100):\n",
    "    fich.write(str(i)+'\\n')\n",
    "fich.close()\n",
    "\n",
    "fich = open(\"nombres.txt\",\"r\")\n",
    "for i in range(5):\n",
    "    print(fich.readline())\n",
    "fich.close()"
   ]
  },
  {
   "cell_type": "markdown",
   "metadata": {},
   "source": [
    "On peut aussi facilement effectuer une boucle sur chaque ligne d'un fichier `fich` en utilisant `for ligne in fich:`. Par exemple pour afficher toutes les lignes du fichier précédent on peut écrire :"
   ]
  },
  {
   "cell_type": "code",
   "execution_count": 48,
   "metadata": {},
   "outputs": [
    {
     "name": "stdout",
     "output_type": "stream",
     "text": [
      "0\n",
      "\n",
      "1\n",
      "\n",
      "2\n",
      "\n",
      "3\n",
      "\n",
      "4\n",
      "\n",
      "5\n",
      "\n",
      "6\n",
      "\n",
      "7\n",
      "\n",
      "8\n",
      "\n",
      "9\n",
      "\n",
      "10\n",
      "\n",
      "11\n",
      "\n",
      "12\n",
      "\n",
      "13\n",
      "\n",
      "14\n",
      "\n",
      "15\n",
      "\n",
      "16\n",
      "\n",
      "17\n",
      "\n",
      "18\n",
      "\n",
      "19\n",
      "\n",
      "20\n",
      "\n",
      "21\n",
      "\n",
      "22\n",
      "\n",
      "23\n",
      "\n",
      "24\n",
      "\n",
      "25\n",
      "\n",
      "26\n",
      "\n",
      "27\n",
      "\n",
      "28\n",
      "\n",
      "29\n",
      "\n",
      "30\n",
      "\n",
      "31\n",
      "\n",
      "32\n",
      "\n",
      "33\n",
      "\n",
      "34\n",
      "\n",
      "35\n",
      "\n",
      "36\n",
      "\n",
      "37\n",
      "\n",
      "38\n",
      "\n",
      "39\n",
      "\n",
      "40\n",
      "\n",
      "41\n",
      "\n",
      "42\n",
      "\n",
      "43\n",
      "\n",
      "44\n",
      "\n",
      "45\n",
      "\n",
      "46\n",
      "\n",
      "47\n",
      "\n",
      "48\n",
      "\n",
      "49\n",
      "\n",
      "50\n",
      "\n",
      "51\n",
      "\n",
      "52\n",
      "\n",
      "53\n",
      "\n",
      "54\n",
      "\n",
      "55\n",
      "\n",
      "56\n",
      "\n",
      "57\n",
      "\n",
      "58\n",
      "\n",
      "59\n",
      "\n",
      "60\n",
      "\n",
      "61\n",
      "\n",
      "62\n",
      "\n",
      "63\n",
      "\n",
      "64\n",
      "\n",
      "65\n",
      "\n",
      "66\n",
      "\n",
      "67\n",
      "\n",
      "68\n",
      "\n",
      "69\n",
      "\n",
      "70\n",
      "\n",
      "71\n",
      "\n",
      "72\n",
      "\n",
      "73\n",
      "\n",
      "74\n",
      "\n",
      "75\n",
      "\n",
      "76\n",
      "\n",
      "77\n",
      "\n",
      "78\n",
      "\n",
      "79\n",
      "\n",
      "80\n",
      "\n",
      "81\n",
      "\n",
      "82\n",
      "\n",
      "83\n",
      "\n",
      "84\n",
      "\n",
      "85\n",
      "\n",
      "86\n",
      "\n",
      "87\n",
      "\n",
      "88\n",
      "\n",
      "89\n",
      "\n",
      "90\n",
      "\n",
      "91\n",
      "\n",
      "92\n",
      "\n",
      "93\n",
      "\n",
      "94\n",
      "\n",
      "95\n",
      "\n",
      "96\n",
      "\n",
      "97\n",
      "\n",
      "98\n",
      "\n",
      "99\n",
      "\n"
     ]
    }
   ],
   "source": [
    "fich = open(\"nombres.txt\",\"r\")\n",
    "for ligne in fich:\n",
    "    print(ligne)\n",
    "fich.close()"
   ]
  },
  {
   "cell_type": "markdown",
   "metadata": {},
   "source": [
    "> **Exercice : **\n",
    "> \n",
    "> Écrire un programme qui lit une liste de nombres écrits dans un fichier `'nombres.txt'` (un nombre par ligne) et qui écrit à la fin de ce fichier 'Le nombre le plus grand est : ' suivi du nombre le plus grand de la liste. \n"
   ]
  },
  {
   "cell_type": "markdown",
   "metadata": {},
   "source": [
    "<a id='analyse'></a>\n",
    "### Analyse d'un algorithme\n",
    "#### Prouver qu'une boucle se termine effectivement\n",
    "On a vu qu'une mauvaise utilisation d'une boucle `while` peut produire une boucle infinie, c'est à dire un programme dont l'execution ne s'arrête jamais. On peut neanmoins prouver qu'une boucle se termine effectivement en utilisant un *variant de boucle*.\n",
    "\n",
    "##### Définition :\n",
    "Dans une boucle `while` où la condition d'arrêt est la comparaison d'une variable et d'une constante de type entier positif, la variable est un **variant de boucle** si :\n",
    " - elle reste positive tout au long de l'algorithme\n",
    " - elle décroit (ou croit) strictement à chaque itération.\n",
    "\n",
    "Dans ce cas on est sûr que la boucle se termine après un nombre fini d'itérations.\n",
    "\n",
    "\n",
    "##### Exemple :\n",
    "On considère l'algorithme de la division euclidienne d'un nombre entier positif `a` par un autre nombre entier positif `b` :"
   ]
  },
  {
   "cell_type": "code",
   "execution_count": 49,
   "metadata": {
    "collapsed": true
   },
   "outputs": [],
   "source": [
    "def division(a,b):\n",
    "    q=0 # Quotient\n",
    "    r=a\n",
    "    while(r>=b):\n",
    "        q=q+1\n",
    "        r=r-b\n",
    "    return q,r"
   ]
  },
  {
   "cell_type": "markdown",
   "metadata": {},
   "source": [
    "Dans cet algorithme, `r` est un variant de boucle car il est toujours positif et décroit strictement à chaque itération (`b` est nécessairement non nul)\n",
    "\n",
    "##### Exercice :\n",
    "> On donne ci-dessous [l'algorithme d'euclide](https://fr.wikipedia.org/wiki/Algorithme_d%27Euclide) permettant de calculer le PGCD de deux nombres entiers positifs `a` et `b`. Démontrer que l'algorithme se termine effectivement."
   ]
  },
  {
   "cell_type": "code",
   "execution_count": 50,
   "metadata": {
    "collapsed": true
   },
   "outputs": [],
   "source": [
    "def PGCD(a,b):\n",
    "    x=a\n",
    "    y=b\n",
    "    while(y!=0):\n",
    "        q,r=division(x,y)\n",
    "        x=y\n",
    "        y=r\n",
    "    return x"
   ]
  },
  {
   "cell_type": "markdown",
   "metadata": {},
   "source": [
    "#### Prouver qu'un algorithme donne le résultat attendu\n",
    "L'utilisation d'un *variant de boucle* permet de prouver qu'un algorithme se termine effectivement. Mais il ne permet pas de s'assurer que le résultat produit par l'algorithme est correct. Pour cela on utilise un **invariant de boucle**. \n",
    "\n",
    "##### Définition\n",
    "Un **invariant de boucle** est une propriété mathématique qui :\n",
    "- est vraie avant d'entrer dans la boucle;\n",
    "- reste vraie après une itération\n",
    "- permet de monter avec la condition d'arrêt de la boucle que le résultat fourni est le résultat attendu.\n",
    "\n",
    "Dans une boucle `for` il n'y a pas de condition d'arrêt explicite. On peut alors transformer la boucle `for` en une boucle `while` et appliquer ce que l'on a vu ci-dessus.\n",
    "\n",
    "##### Exemple\n",
    "Reprenons l'algorithme de division euclidienne de la partie précédente. On peut montrer que $a=qb+r$ est un invariant de boucle. En effet :\n",
    "- Avant d'entrer dans la boucle on a $q=0$ et $r=a$ donc on a bien $a=qb+r$\n",
    "- En notant $q'$ et $r'$ les valeurs de $q$ et $r$ à la fin de la boucle, on a $q'=q+1$ et $r'=r-b$ et $q'b+r'=(q+1)b+r-b = qb+r = a$. Donc si la propriété est vrai au début de la boucle elle reste vraie à la fin de la boucle.\n",
    "- À la fin de la boucle on a $r<b$ ce qui associé à l'invariant de boucle assure que le résultat est bien la division euclidienne de $a$ par $b$.\n",
    "\n",
    "\n",
    "##### Exercice\n",
    "> Prouver que l'algorithme suivant pour calculer $a^n$ se termine forcément et qu'il fournit le bon résultat (trouver un invariant de boucle):"
   ]
  },
  {
   "cell_type": "code",
   "execution_count": 51,
   "metadata": {
    "collapsed": true
   },
   "outputs": [],
   "source": [
    "def puissance(a,n):\n",
    "    A=a\n",
    "    N=n\n",
    "    R=1\n",
    "    while(N>0):\n",
    "        if N%2==0 :\n",
    "            A = A*A\n",
    "            N=N/2\n",
    "        else:\n",
    "            R = R*A\n",
    "            N = N-1\n",
    "    return R"
   ]
  },
  {
   "cell_type": "markdown",
   "metadata": {},
   "source": [
    "#### Temps d'exécution d'un algorithme (Complexité)\n",
    "\n",
    "##### Définition\n",
    "Un algorithme qui donne la bonne solution à un problème peut n'avoir qu'un intérêt limité si le temps qu'il met à donner cette solution est *trop* long. Nous allons donc voir comment on peut estimer le temps d'execution d'un algorithme.\n",
    "\n",
    "Plus précisément, le temps d'execution d'un programme dépend du nombre d'instructions élémentaires effectuées par le microprocesseur qui dépend très souvent de la taille $n$ des données à traiter. Bien évidemment la vitesse de traitement des instructions par le processeur dépend de la machine sur laquelle le programme est exécuté. On ne pourra donc pas donner une valeur précise du temps d'exécution. Par contre, le temps d'exécution $t(n)$ reste proportionnel au nombre d'instructions élémentaires $T(n)$ à traiter qui dépend de la taille $n$ des données. Donc pour une machine donnée il existe une constante $M$ qui dépend de la vitesse de la machine telle que :\n",
    "\n",
    "$$t(n)=MT(n)$$\n",
    "\n",
    "Le nombre d'instructions $T(n)$ est appelé la **complexité en temps** de l'algorithme. En pratique on cherche à déterminer comment $T(n)$ varie avec $n$, lorsque $n$ devient grand (comportement asymptotique).\n",
    "\n",
    "- Si $T(n)$ est indépendant de $n$, on note $T(n)=O(1)$. C'est une complexité **en temps constant**;\n",
    "- Si $T(n)$ est proportionnel à $n$, on note $T(n)=O(n)$. C'est une complexité **linéaire**;\n",
    "- Si $T(n)$ est proportionnel à $n^2$, on note $T(n)=O(n^2)$. C'est une complexité **quadratique**;\n",
    "- Si $T(n)$ est proportionnel à $k^n$, on note $T(n)=O(k^n)$. C'est une complexité **exponentielle**.\n",
    "\n",
    "En pratique, pour déterminer la complexité d'un algorithme, on comptera souvent le nombre d'itérations d'une boucle. Mais ça peut aussi être plus compliqué.\n",
    "\n",
    "On distingue plusieurs complexités en temps :\n",
    "- La complexité dans le pire des cas ;\n",
    "- la complexité dans le meilleur des cas ;\n",
    "- la complexité moyenne (la moyenne des complexités pour toutes les données d'entrée possibles). Difficile à déterminer.\n",
    "\n",
    "On peut aussi évaluer la complexité en mémoire qui donne une estimation de la quantité de mémoire utilisée pour exécuter un algorithme.\n",
    "\n",
    "##### Exemples\n",
    "\n",
    "###### Recherche d'un caractère\n",
    "\n",
    "Commençons par étudier une fonction qui recherche la position de la première occurrence d'un caractère dans une chaîne de caractères. La fonction renvoie `-1` si le caractère n'est pas présent dans la chaîne."
   ]
  },
  {
   "cell_type": "code",
   "execution_count": 52,
   "metadata": {
    "collapsed": true
   },
   "outputs": [],
   "source": [
    "def recherche(chaine,caractere):\n",
    "    for i in range(0,len(chaine)):\n",
    "        if chaine[i] == caractere:\n",
    "            return i\n",
    "    return -1"
   ]
  },
  {
   "cell_type": "markdown",
   "metadata": {},
   "source": [
    "Dans le meilleur des cas, le caractère recherché se trouve en première position et on n'effectue la boucle qu'une seule fois. Donc dans le meilleur des cas $T(n)=O(1)$.\n",
    "\n",
    "Dans le pire des cas, le caractère recherché n'est pas dans la chaîne et on doit effectuer la boucle $n$ fois ($n$ est la taille de la chaîne). Donc dans le pire des cas $T(n)=O(n)$.\n",
    "\n",
    "En moyenne on peut considérer que le caractère recherché se trouve au milieu de la chaine donc la boucle est effectuée $n/2$ fois. La complexité en moyenne est donc $T(n)=O(n)$.\n",
    "\n",
    "###### Calcul de puissance\n",
    "\n",
    "Reprenons la fonction qui calcule $a^n$ vue plus haut :"
   ]
  },
  {
   "cell_type": "code",
   "execution_count": 53,
   "metadata": {
    "collapsed": true
   },
   "outputs": [],
   "source": [
    "def puissance(a,n):\n",
    "    A=a\n",
    "    N=n\n",
    "    R=1\n",
    "    while(N>0):\n",
    "        if N%2==0 :\n",
    "            A = A*A\n",
    "            N=N/2\n",
    "        else:\n",
    "            R = R*A\n",
    "            N = N-1\n",
    "    return R"
   ]
  },
  {
   "cell_type": "markdown",
   "metadata": {},
   "source": [
    "Dans le meilleur des cas, $N$ est une puissance de $2$ : $N=2^k$ et à chaque itération $N$ est divisé par 2. Dans ces conditions la boucle `while` est executée $k+1$ fois et $T(k)=O(log(N))$, la complexité est **logarithmique**. \n",
    "\n",
    "Dans le pire des cas, une itération sur deux $N$ est divisé par $2$ et l'autre on lui soustrait $1$. Dans ces conditions, le nombre d'itérations est doublé mais la complexité reste logarithmique.\n",
    "\n",
    "La complexité de cet algorithme est logarithmique dans tous les cas.\n",
    "\n",
    "##### Exercice\n",
    "\n",
    "On représente le polynome de degré $n$ suivant : $P(x)=a_0+a_1x + a_2x^2+ \\ldots + a_nx^n$ par une liste `[a0,a1,a2,...,an]`. On donne ci-dessous un algorithme pour évaluer la valeur de ce polynôme en $x$ en n'utilisant que des multiplications:"
   ]
  },
  {
   "cell_type": "code",
   "execution_count": 54,
   "metadata": {},
   "outputs": [
    {
     "name": "stdout",
     "output_type": "stream",
     "text": [
      "9\n"
     ]
    }
   ],
   "source": [
    "def puissance(x,n):\n",
    "    r=1\n",
    "    for i in range(n):\n",
    "        r=r*x\n",
    "    return r\n",
    "\n",
    "def evaluation(P,x):\n",
    "    r=0\n",
    "    for i in range(len(P)):\n",
    "        r=r+P[i]*puissance(x,i)\n",
    "    return r\n",
    "\n",
    "print(evaluation([1,2,1],2)) #1+2*2+1*2^2"
   ]
  },
  {
   "cell_type": "markdown",
   "metadata": {},
   "source": [
    "Déterminer la complexité en temps de cet algorithme, on pourra déterminer le nombre de multiplications effectuées en fonction de $n$. \n",
    "\n",
    "Écrire un algorithme d'évaluation de polynôme plus intelligent utilisant la méthode de Horner qui consiste à factoriser le polynôme de la manière suivante :\n",
    "\n",
    "$$ P(x) = a_0 + x(a_1 + x(a_2+x(...)))$$\n",
    "\n",
    "Déterminer la complexité (nombre de multiplications) de ce nouvel algorithme."
   ]
  },
  {
   "cell_type": "markdown",
   "metadata": {},
   "source": [
    "<a id='methodes_numeriques'></a>\n",
    "## Méthodes numériques\n",
    "\n",
    "Cette partie a pour objet l'étude de quelques méthodes informatiques de résolutions de problèmes numériques difficiles (ou impossibles) à résoudre formellement.\n",
    "\n",
    "- [Résolution d'équations](#resolequations)\n",
    "- [Résolution d'équations différentielles, méthode d'Euler](#equadiff)\n",
    "- [Résolution de systèmes linéaires, pivot de gauss](#pivotgauss)\n",
    "- [Intégration et dérivation numérique](#integderiv)\n",
    "\n",
    "<a id='resolequations'></a>\n",
    "### Résolution d'équations\n",
    "- [Dichotomie](#dichotomie)\n",
    "- [Méthode de Newton](#newton)\n",
    "\n",
    "Il existe des équations mathématiques qui n'ont pas de solution mathématique explicite, c'est à dire que étant donnée une équation de la forme $f(x)=0$, on ne peut pas exprimer la solution sous une forme simple $x=\\ldots$. Il faut alors résoudre numériquement l'équation, c'est à dire trouver une valeur numérique approchée de la solution. \n",
    "\n",
    "Par exemple il est très difficile (impossible) d'exprimer la solution de l'équation $\\tan(x)=\\sin(x^2)$ sous une forme simple.\n",
    "\n",
    "Dans tout ce qui suit on cherchera à résoudre des équations de la forme $F(x)=0$. Par exemple l'équation précédente est équivalente à $F(x)=\\tan(x)-\\sin(x^2)=0$\n",
    "\n",
    "<a id='dichotomie'></a>\n",
    "#### Méthode de dichotomie\n",
    "\n",
    "La méthode de la dichotomie consiste à partir d'un encadrement d'une solution $x_{e}$ de l'équation à résoudre $x_e \\in [a_1,b_1]$, $F(x_e)=0$ et de réduire progressivement l'encadrement.\n",
    "\n",
    "<img src=\"https://upload.wikimedia.org/wikipedia/commons/thumb/c/c2/Bisection_method.png/800px-Bisection_method.png\" alt=\"Drawing\" style=\"width: 400px;\"/>\n",
    "\n",
    "L'encadrement initial ne contient qu'une solution et donc on a nécessairement $F(a_1)F(b_1)<0$. On calcule le point milieux de l'intervalle $[a_1,b_1]$ : $c_1=\\frac{a_1+b_1}{2}$ et selon le signe de $c_1$ il remplace $a_1$ ou $b_1$ ($c_1$ prend la place de la borne du même signe). On a alors un nouvel intervalle $[a_2,b_2]$ qui contient toujours $x_e$ mais de longueur deux fois plus petite.\n",
    "\n",
    "On répète cette procédure jusqu'à encadrer la solution $x_e$ d'assez près pour en avoir une approximation suffisante.\n",
    "\n",
    "En python, on obtient la fonction suivante :"
   ]
  },
  {
   "cell_type": "code",
   "execution_count": 55,
   "metadata": {},
   "outputs": [
    {
     "name": "stdout",
     "output_type": "stream",
     "text": [
      "nombre d'itérations :  54\n",
      "1.4142135623730954\n",
      "1.4142135623730951\n"
     ]
    }
   ],
   "source": [
    "# Fonction qui calcule un zéro de la fonction f compris entre a et b avec une précision eps\n",
    "# On doit avoir f(a)*f(b)<0\n",
    "def zeroDichotomie(f,a,b,eps):\n",
    "    n=0\n",
    "    while(abs(b-a)>eps):\n",
    "        c=(a+b)/2\n",
    "        n=n+1\n",
    "        if f(a)*f(c)<0:\n",
    "            b=c\n",
    "        else:\n",
    "            a=c\n",
    "    print(\"nombre d'itérations : \",n)\n",
    "    return (a+b)/2\n",
    "\n",
    "# Test de la fonction précédente :\n",
    "def f1(x):\n",
    "    return x**2-2\n",
    "\n",
    "from math import *\n",
    "print(zeroDichotomie(f1,0,10,1e-15))\n",
    "print(sqrt(2))"
   ]
  },
  {
   "cell_type": "markdown",
   "metadata": {},
   "source": [
    "Comme l'erreur faite sur la solution est divisée par deux à chaque itération de la boucle, on peut prévoire que pour atteindre une erreur $\\varepsilon$ il faudra un nombre $n$ d'itérations tel que $\\varepsilon\\leq\\frac{b-a}{2^{n+1}}$ et donc $n\\geq\\log_2\\left(\\frac{b-a}{\\varepsilon}\\right)-1$\n",
    "\n",
    "On peut aussi noter que le nombre de décimales justes est proportionnel au nombre d'itérations de la boucle. On dit que la convergence de cet algorithme est linéaire."
   ]
  },
  {
   "cell_type": "markdown",
   "metadata": {},
   "source": [
    "<a id='newton'></a>\n",
    "#### Méthode de Newton\n",
    "\n",
    "La seconde méthode que nous allons étudier pour déterminer la solution d'une équation est la méthode de Newton. Elle consiste à chaque itération à approximer la fonction $F(x)$ par sa tangente et à rechercher son intersection avec l'axe des abscisses. La méthode est schématiquement représentée dans l'animation ci-dessous :\n",
    "\n",
    "![Newton](https://upload.wikimedia.org/wikipedia/commons/e/e0/NewtonIteration_Ani.gif)\n",
    "\n",
    "On poursuit l'algorithme jusqu'à ce que l'écart entre deux valeurs successives soit inférieur à un nombre $\\varepsilon$ (choisi assez petit)\n",
    "\n",
    "Ce qui se traduit par l'algorithme suivante :"
   ]
  },
  {
   "cell_type": "code",
   "execution_count": 56,
   "metadata": {},
   "outputs": [
    {
     "name": "stdout",
     "output_type": "stream",
     "text": [
      "nombre d'itérations :  5\n",
      "1.414213562373095\n",
      "1.4142135623730951\n"
     ]
    }
   ],
   "source": [
    "def f1(x):\n",
    "    return x**2-2\n",
    "\n",
    "def fp1(x):\n",
    "    return 2*x\n",
    "\n",
    "def zeroNewton(f,fp,x0,eps):\n",
    "    x1 = x0 - f(x0)/fp(x0)\n",
    "    n=0\n",
    "    while(abs(x1-x0)>eps and n<1000):\n",
    "        x0=x1\n",
    "        x1 = x0 - f(x0)/fp(x0)\n",
    "        n=n+1\n",
    "    print(\"nombre d'itérations : \",n)\n",
    "    return x1\n",
    "\n",
    "print(zeroNewton(f1,fp1,1,1e-15))\n",
    "print(sqrt(2))\n",
    "        "
   ]
  },
  {
   "cell_type": "markdown",
   "metadata": {},
   "source": [
    "Si on n'a pas la fonction dérivée de la fonction dont on cherche le zéro, on peut calculer numériquement la dérivée. La valeur approchée de la dérivée est donnée par :\n",
    "$$f'(x) = \\frac{f(x+h)-f(x)}{h}$$\n",
    "Avec $h$ un nombre assez petit."
   ]
  },
  {
   "cell_type": "code",
   "execution_count": 57,
   "metadata": {},
   "outputs": [
    {
     "name": "stdout",
     "output_type": "stream",
     "text": [
      "nombre d'itérations :  6\n",
      "1.4142135623730951\n",
      "1.4142135623730951\n"
     ]
    }
   ],
   "source": [
    "def f1(x):\n",
    "    return x**2-2\n",
    "\n",
    "def derivee(f,x):\n",
    "    h=1e-4\n",
    "    return (f(x+h)-f(x))/h\n",
    "\n",
    "def zeroNewton2(f,x0,eps):\n",
    "    x1 = x0 - f(x0)/derivee(f,x0)\n",
    "    n=0\n",
    "    while(abs(x1-x0)>eps and n<1000):\n",
    "        x0=x1\n",
    "        x1 = x0 - f(x0)/derivee(f,x0)\n",
    "        n=n+1\n",
    "    print(\"nombre d'itérations : \",n)\n",
    "    return x1\n",
    "\n",
    "print(zeroNewton2(f1,1,1e-15))\n",
    "print(sqrt(2))"
   ]
  },
  {
   "cell_type": "markdown",
   "metadata": {},
   "source": [
    "<a id='equadiff'></a>\n",
    "### Résolution d'équations différentielles, méthode d'Euler\n",
    "\n",
    "La méthode d'Euler est une méthode numérique de résolution d'équations différentielles. Nous allons montrer le principe de la méthode et son application pour résoudre numériquement une équation différentielle d'ordre 1.\n",
    "\n",
    "#### Principe de la méthode\n",
    "\n",
    "On souhaite résoudre numériquement une équation différentielle de la forme $$\\frac{dy}{dt}=f(y,t)$$ associée à la condition initiale $y(0)=y_0$\n",
    "\n",
    "Par exemple l'équation différentielle : $\\frac{dy}{dt} = \\cos(t)\\sin(y)$, dans ce cas $f(y,t)=\\cos(t)\\sin(y)$. Ou plus simplement $\\frac{dy}{dt}+4y=0$ où $f(y,t)=-4y$. L'équation différentielle est définie par la fonction $f(y,t)$ qui est une donnée du problème.\n",
    "\n",
    "On utilise un développement à l'ordre 1 de la fonction $y$ : $$y(t+dt)\\simeq y(t) + y'(t)dt$$\n",
    "soit\n",
    "$$y(t+dt)\\simeq y(t)+f(y(t),t)dt$$\n",
    "\n",
    "Donc connaissant la condition initiale $y(0)=y_0$ on peut calculer $y(dt)$ puis $y(2dt)$, etc.\n",
    "\n",
    "L'approximation utilisée revient à identifier la courbe représentative de $y(t)$ à sa tangente en tout point.\n",
    "\n",
    "#### Programmation en python\n",
    "\n",
    "Nous allons résoudre numériquement l'équation différentielle\n",
    "$$y'+4y=0$$ \n",
    "avec $y(0)=10$.On peut en calculer la solution exacte:\n",
    "$$y(t)=10e^{-4t}$$\n",
    "On a alors $f(y,t)=-4y$ que l'on définit comme une fonction python :"
   ]
  },
  {
   "cell_type": "code",
   "execution_count": 58,
   "metadata": {
    "collapsed": true
   },
   "outputs": [],
   "source": [
    "def f(y,t):\n",
    "    return -4*y"
   ]
  },
  {
   "cell_type": "markdown",
   "metadata": {},
   "source": [
    "Puis on écrit la fonction `euler` qui calcule les valeurs successives de $y$ et $t$."
   ]
  },
  {
   "cell_type": "code",
   "execution_count": 59,
   "metadata": {
    "collapsed": true
   },
   "outputs": [],
   "source": [
    "def euler(f,y0,dt,tmax):\n",
    "    y=[y0]\n",
    "    t=[0]\n",
    "    while(t[-1]<tmax):\n",
    "        y.append(y[-1]+dt*f(y[-1],t[-1]))\n",
    "        t.append(t[-1]+dt)\n",
    "    return [t,y]"
   ]
  },
  {
   "cell_type": "markdown",
   "metadata": {},
   "source": [
    "On utilise la fonction précédente pour calculer la solution de l'équation différentielle :"
   ]
  },
  {
   "cell_type": "code",
   "execution_count": 60,
   "metadata": {
    "collapsed": true
   },
   "outputs": [],
   "source": [
    "t,y=euler(f,10,0.01,1)"
   ]
  },
  {
   "cell_type": "markdown",
   "metadata": {},
   "source": [
    "Représentons graphiquement les valeurs de $y(t)$ calculées ainsi que la solution exacte."
   ]
  },
  {
   "cell_type": "code",
   "execution_count": 61,
   "metadata": {},
   "outputs": [
    {
     "data": {
      "text/plain": [
       "[<matplotlib.lines.Line2D at 0x7f9cdaedc278>]"
      ]
     },
     "execution_count": 61,
     "metadata": {},
     "output_type": "execute_result"
    },
    {
     "data": {
      "image/png": "[encoded data removed]",
      "text/plain": [
       "<matplotlib.figure.Figure at 0x7f9cf3bff8d0>"
      ]
     },
     "metadata": {},
     "output_type": "display_data"
    }
   ],
   "source": [
    "%matplotlib inline\n",
    "import matplotlib.pyplot as plt\n",
    "from math import *\n",
    "\n",
    "def fth(t):\n",
    "    return 10*exp(-4*t)\n",
    "\n",
    "yth = [fth(i) for i in t]\n",
    "plt.plot(t,y)\n",
    "plt.plot(t,yth)"
   ]
  },
  {
   "cell_type": "markdown",
   "metadata": {},
   "source": [
    "On peut voir l'influence du *pas* en résolvant l'équation différentielle avec des pas différents :"
   ]
  },
  {
   "cell_type": "code",
   "execution_count": 62,
   "metadata": {},
   "outputs": [
    {
     "data": {
      "text/plain": [
       "<matplotlib.legend.Legend at 0x7f9cccc7ad68>"
      ]
     },
     "execution_count": 62,
     "metadata": {},
     "output_type": "execute_result"
    },
    {
     "data": {
      "image/png": "[encoded data removed]",
      "text/plain": [
       "<matplotlib.figure.Figure at 0x7f9cdaedc710>"
      ]
     },
     "metadata": {},
     "output_type": "display_data"
    }
   ],
   "source": [
    "t1,y1=euler(f,10,0.01,1)\n",
    "t2,y2=euler(f,10,0.05,1)\n",
    "t3,y3=euler(f,10,0.1,1)\n",
    "t4,y4=euler(f,10,0.2,1)\n",
    "plt.plot(t1,y1,label=\"dt=0.01\")\n",
    "plt.plot(t2,y2,label=\"dt=0.05\")\n",
    "plt.plot(t3,y3,label=\"dt=0.1\")\n",
    "plt.plot(t4,y4,label=\"dt=0.5\")\n",
    "plt.plot(t,yth)\n",
    "plt.legend()"
   ]
  },
  {
   "cell_type": "markdown",
   "metadata": {},
   "source": [
    "Il est clair que plus le pas est petit, plus la solution numérique est proche de la solution exacte.\n",
    "\n",
    "On peut également évaluer la complexité en temps de cet algorithme. La boucle principale de la fonction `euler` est executée autant de fois qu'il y a de points à calculer dans l'intervalle $[0-t_{max}]$. Soit pour un pas de $dt$ la boucle s'exécute $N=\\frac{t_{max}}{dt}$ fois. Donc plus $dt$ est faible plus le temps d'exécution du programme est grand. On ne peut donc pas choisir un pas arbitrairement petit. Il faut trouver le bon compromis entre précision de la solution et temps de calcul acceptable.\n",
    "\n",
    "> #### Exercice\n",
    "> \n",
    "> Comment modifier la fonction `euler` ci-dessus pour résoudre une équation différentielle d'ordre 2"
   ]
  },
  {
   "cell_type": "markdown",
   "metadata": {},
   "source": [
    "<a id='pivotgauss'></a>\n",
    "### Résolution d'un système linéaire, méthode de Gauss"
   ]
  },
  {
   "cell_type": "markdown",
   "metadata": {},
   "source": [
    "Pour le détail de l'algorithme du pivot de Gauss, voir le [cours de maths](http://alicenolot.free.fr/cours/chapitre12.pdf) (Chapitre 12 II-2). \n",
    "\n",
    "La traduction en python de l'algorithme est donnée ci-dessous."
   ]
  },
  {
   "cell_type": "code",
   "execution_count": 63,
   "metadata": {},
   "outputs": [
    {
     "data": {
      "text/plain": [
       "([[1, 0.0, 0.0], [0.0, 1, 0.0], [0.0, 0.0, 1]],\n",
       " [[0.54], [0.07999999999999999], [0.1]])"
      ]
     },
     "execution_count": 63,
     "metadata": {},
     "output_type": "execute_result"
    }
   ],
   "source": [
    "def pivot(A,k):\n",
    "    \"\"\" Fonction qui détermine le pivot dans la colonne k\n",
    "    de la matrice A. Elle renvoit la ligne du premier \n",
    "    élément non nul de la colonne k \"\"\"\n",
    "    n=len(A)\n",
    "    for i in range(k,n):\n",
    "        if(A[i][k]!=0):\n",
    "            return i\n",
    "    print(\"Erreur, pas de pivot trouvé\")\n",
    "\n",
    "def echange(A,i,j):\n",
    "    \"\"\" Échange les lignes i et j de la matrice A \"\"\"\n",
    "    v=A[i]\n",
    "    A[i]=A[j]\n",
    "    A[j]=v\n",
    "\n",
    "def transvection(A,i,j,lam):\n",
    "    \"\"\" Modifie la matrice A en ajoutant à la ligne i \n",
    "    lam fois la ligne j \"\"\"\n",
    "    for k in range(len(A[0])):\n",
    "        A[i][k]+=lam*A[j][k]\n",
    "        \n",
    "def resoudre(A,B):\n",
    "    \"\"\" Résout le système linéaire AX=B \"\"\"\n",
    "    n = len(A[0])\n",
    "    # Matrice A sous forme échelonnée\n",
    "    for i in range(n-1):\n",
    "        p = pivot(A,i)\n",
    "        echange(A,p,i)\n",
    "        echange(B,p,i)\n",
    "        for k in range(i+1,n):\n",
    "            transvection(A,k,p,-A[k][i]/A[i][i])\n",
    "            transvection(B,k,p,-A[k][i]/A[i][i])\n",
    "    \n",
    "    # Matrice A sous forme échelonnée réduite\n",
    "    for i in range(1,n+1):\n",
    "        B[n-i][0] = B[n-i][0]/A[n-i][n-i]\n",
    "        A[n-i][n-i] = 1\n",
    "        for k in range(n-i):\n",
    "            transvection(B,k,n-i,-A[k][n-i]/A[n-i][n-i])\n",
    "            transvection(A,k,n-i,-A[k][n-i]/A[n-i][n-i])\n",
    "    return A,B  \n",
    "    \n",
    "# Exemple d'application\n",
    "A=[[1,2,3],\n",
    "   [0,5,6],\n",
    "   [0,0,10]]\n",
    "\n",
    "B=[[1],[1],[1]]\n",
    "\n",
    "resoudre(A,B)        "
   ]
  },
  {
   "cell_type": "markdown",
   "metadata": {},
   "source": [
    "<a id='integderiv'></a>\n",
    "### Intégration et dérivation numérique\n",
    "\n",
    "Il arrive souvent que l'on souhaite obtenir numériquement la fonction dérivée ou l'intégrale (primitive) d'une fonction $f(x)$.\n",
    "\n",
    "Le plus souvent c'est parce que la fonction $f(x)$ n'est connue que numériquement, c'est à dire que l'on n'en connait qu'un nombre fini de valeurs ${f(x_1), f(x_2),\\ldots, f(x_n)}$. Il peut également arriver que la primitive $F(x)$ de la fonction $f(x)$ soit très difficile à calculer. (Pour un physicien, une primitive devient vite difficile à calculer) \n",
    "\n",
    "- [Dérivation numérique](#derivation)\n",
    "- [Intégration numérique](#Integration)\n"
   ]
  },
  {
   "cell_type": "markdown",
   "metadata": {},
   "source": [
    "\n",
    "<a id='derivation'></a>\n",
    "#### Dérivation numérique\n",
    "\n",
    "La dérivation numérique d'une fonction $f(x)$ repose sur la définition du nombre dérivé en $x_0$ :\n",
    "\n",
    "$$ f'(x_0) = \\lim_{h\\rightarrow 0} \\frac{f(x_0+h)-f(x_0)}{h} $$\n",
    "\n",
    "On se contente alors de prendre une valeur de $h$ *suffisamment* petite et on écrit :\n",
    "\n",
    "$$ f'(x_0) \\simeq \\frac{f(x_0+h)-f(x_0)}{h} $$\n",
    "\n",
    "On pourra donc utiliser la fonction Python suivante :"
   ]
  },
  {
   "cell_type": "code",
   "execution_count": 64,
   "metadata": {
    "collapsed": true
   },
   "outputs": [],
   "source": [
    "def derivee(f,x0):\n",
    "    h=1e-4\n",
    "    return (f(x0+h)-f(x0))/h"
   ]
  },
  {
   "cell_type": "markdown",
   "metadata": {},
   "source": [
    "Testons cette méthode avec une fonction mathématique dont la dérivée est connue :\n",
    "$$ f(x) = \\cos(x) \\quad f'(x) = -\\sin(x) $$"
   ]
  },
  {
   "cell_type": "code",
   "execution_count": 65,
   "metadata": {},
   "outputs": [
    {
     "data": {
      "image/png": "[encoded data removed]",
      "text/plain": [
       "<matplotlib.figure.Figure at 0x7f9cccbed4e0>"
      ]
     },
     "metadata": {},
     "output_type": "display_data"
    }
   ],
   "source": [
    "from math import *\n",
    "from matplotlib import pyplot as plt\n",
    "\n",
    "def f(x):\n",
    "    return cos(x)\n",
    "\n",
    "def fp(x):\n",
    "    return -sin(x)\n",
    "\n",
    "xVals=[]\n",
    "yVals=[]\n",
    "ypTheoVals=[]\n",
    "ypNumVals=[]\n",
    "xmin = 0\n",
    "xmax = 15\n",
    "for i in range(200):\n",
    "    x=xmin + i*(xmax-xmin)/200\n",
    "    xVals.append(x)\n",
    "    yVals.append(f(x))\n",
    "    ypTheoVals.append(fp(x)+0.1)\n",
    "    ypNumVals.append(derivee(f,x))\n",
    "    \n",
    "plt.plot(xVals,yVals,label=\"f(x)\")\n",
    "plt.plot(xVals,ypTheoVals,label=\"f'(x) théorique\")\n",
    "plt.plot(xVals,ypNumVals,label=\"f'(x) numérique\")\n",
    "plt.legend()\n",
    "plt.show()"
   ]
  },
  {
   "cell_type": "markdown",
   "metadata": {},
   "source": [
    "<a id='Integration'></a>\n",
    "#### Intégration numérique\n",
    "\n",
    "L'intégration numérique est un peu plus compliquée que la dérivation. On utilise le fait que l'intégrale $\\int_a^b f(x) dx$ est égale à l'aire sous la courbe représentative de $f(x)$ entre $a$ et $b$. Il faut donc calculer numériquement cette aire.\n",
    "\n",
    "##### Méthode des rectangles\n",
    "La méthode la plus simple est la méthode des rectangles qui consiste à approximer la fonction par une série de rectangles de largeur $p$ et de surface $S_i$:\n",
    "\n",
    "<img src=\"https://upload.wikimedia.org/wikipedia/commons/thumb/c/c5/Integration_num_rectangles_notation.svg/668px-Integration_num_rectangles_notation.svg.png\" alt=\"Méthode des rectangles\" style=\"width: 400px; margin:auto\"/>\n",
    "\n",
    "Cette méthode est mise en oeuvre dans la fonction python suivante :"
   ]
  },
  {
   "cell_type": "code",
   "execution_count": 66,
   "metadata": {
    "collapsed": true
   },
   "outputs": [],
   "source": [
    "def integRectangles(f,a,b,n):\n",
    "    \"\"\"Intègre la fonction f entre a et b par la méthode des rectangles\n",
    "    en utilisant n rectangles \"\"\"\n",
    "    p = (b-a)/n\n",
    "    S=0\n",
    "    for i in range(n):\n",
    "        xi = a+p/2+i*p\n",
    "        Si = f(xi)*p\n",
    "        S += Si\n",
    "    return S"
   ]
  },
  {
   "cell_type": "markdown",
   "metadata": {},
   "source": [
    "Testons cette fonction pour calculer la primitive d'une fonction connue :\n",
    "$$ f(x) = \\cos(x) \\quad F(x) = \\sin(x) $$"
   ]
  },
  {
   "cell_type": "code",
   "execution_count": 67,
   "metadata": {},
   "outputs": [
    {
     "data": {
      "image/png": "[encoded data removed]",
      "text/plain": [
       "<matplotlib.figure.Figure at 0x7f9cccbd06a0>"
      ]
     },
     "metadata": {},
     "output_type": "display_data"
    }
   ],
   "source": [
    "def f(x):\n",
    "    return cos(x)\n",
    "\n",
    "def F(x):\n",
    "    return sin(x)\n",
    "\n",
    "xVals=[]\n",
    "yVals=[]\n",
    "YTheoVals=[]\n",
    "YNumVals=[]\n",
    "xmin = 0\n",
    "xmax = 15\n",
    "for i in range(200):\n",
    "    x=xmin + i*(xmax-xmin)/200\n",
    "    xVals.append(x)\n",
    "    yVals.append(f(x))\n",
    "    YTheoVals.append(F(x))\n",
    "    YNumVals.append(integRectangles(f,0,x,200))\n",
    "    \n",
    "plt.plot(xVals,yVals,label=\"f(x)\")\n",
    "plt.plot(xVals,YTheoVals,label=\"F(x) théorique\")\n",
    "plt.plot(xVals,YNumVals,label=\"F(x) numérique\")\n",
    "plt.legend()\n",
    "plt.show()"
   ]
  },
  {
   "cell_type": "markdown",
   "metadata": {},
   "source": [
    "La manière utilisée ci-dessus pour calculer la primitive de la fonction est très peu efficace. Expliquer pourquoi et expliquer comment ou pourrait rendre ce calcul beaucoup plus efficace.\n",
    "\n",
    "Séparer l'intervalle d'intégration en $n$ rectangles, avec $n$ fixé *a priori* n'est pas forcément la méthode la plus efficace en moyenne. En effet pour une fonction qui varie *lentement*, le nombre de rectangles nécessaire sera plus faible que pour une fonction qui varie plus rapidement. \n",
    "\n",
    "On pourra donc écrire une nouvelle fonction qui adapte le nombre de rectangles jusqu'à ce que le résultat de l'intégrale ne varie plus :"
   ]
  },
  {
   "cell_type": "code",
   "execution_count": 68,
   "metadata": {},
   "outputs": [
    {
     "data": {
      "text/plain": [
       "1.0000010039887828"
      ]
     },
     "execution_count": 68,
     "metadata": {},
     "output_type": "execute_result"
    }
   ],
   "source": [
    "def integRectanglesAdapt(f,a,b):\n",
    "    diff=10\n",
    "    n=10\n",
    "    eps=1e-5\n",
    "    integ = integRectangles(f,a,b,n)\n",
    "    while(abs(diff)>eps):\n",
    "        prec = integ\n",
    "        n = 2*n\n",
    "        integ = integRectangles(f,a,b,n)\n",
    "        diff = integ-prec\n",
    "    return integ\n",
    "\n",
    "integRectanglesAdapt(f,0,pi/2)"
   ]
  },
  {
   "cell_type": "markdown",
   "metadata": {},
   "source": [
    "##### Méthode des trapèzes\n",
    "On peut également modéliser la fonction à intégrer par une série de segments de droite. Il s'agit de la méthode des trapèzes\n",
    "\n",
    "![trapèzes](https://upload.wikimedia.org/wikipedia/commons/thumb/d/d1/Integration_num_trapezes_notation.svg/220px-Integration_num_trapezes_notation.svg.png)\n",
    "\n",
    "L'aire d'un trapèze est donnée par :\n",
    "$$S_i = p\\frac{f(x_i)+f(x_{i+1})}{2}$$\n",
    "\n",
    "La fonction python suivante met en oeuvre la méthode des trapèzes :"
   ]
  },
  {
   "cell_type": "markdown",
   "metadata": {},
   "source": [
    "## Bases de données"
   ]
  },
  {
   "cell_type": "markdown",
   "metadata": {
    "collapsed": true
   },
   "source": []
  }
 ],
 "metadata": {
  "celltoolbar": "Raw Cell Format",
  "kernelspec": {
   "display_name": "Python 3",
   "language": "python",
   "name": "python3"
  },
  "language_info": {
   "codemirror_mode": {
    "name": "ipython",
    "version": 3
   },
   "file_extension": ".py",
   "mimetype": "text/x-python",
   "name": "python",
   "nbconvert_exporter": "python",
   "pygments_lexer": "ipython3",
   "version": "3.6.2"
  }
 },
 "nbformat": 4,
 "nbformat_minor": 1
}
