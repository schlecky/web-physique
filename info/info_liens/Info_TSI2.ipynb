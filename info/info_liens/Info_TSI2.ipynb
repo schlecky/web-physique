{
 "cells": [
  {
   "cell_type": "markdown",
   "metadata": {},
   "source": [
    "# Cours d'informatique TSI2"
   ]
  },
  {
   "cell_type": "markdown",
   "metadata": {},
   "source": [
    "- [La méthode d'Euler](#euler)\n",
    "- [Les piles](#piles)\n",
    "- [La Récursivité](#recursivite)\n",
    "- [Méthodes de tri](#tris)\n",
    "  - [Tri par insertion](#triInsertion)\n",
    "  - [Tri rapide](#triRapide)\n",
    "  - [Tri fusion](#triFusion)"
   ]
  },
  {
   "cell_type": "markdown",
   "metadata": {},
   "source": [
    "<a id='euler'></a>\n",
    "## La méthode d'Euler\n",
    "\n",
    "La méthode d'Euler est une méthode numérique de résolution d'équations différentielles. Nous allons montrer le principe de la méthode et son application pour résoudre numériquement une équation différentielle d'ordre 1.\n",
    "\n",
    "### Principe de la méthode\n",
    "\n",
    "On souhaite résoudre numériquement une équation différentielle de la forme $$\\frac{dy}{dt}=f(y,t)$$ associée à la condition initiale $y(0)=y_0$\n",
    "\n",
    "Par exemple l'équation différentielle : $\\frac{dy}{dt} = \\cos(t)\\sin(y)$, dans ce cas $f(y,t)=\\cos(t)\\sin(y)$. Ou plus simplement $\\frac{dy}{dt}+4y=0$ où $f(y,t)=-4y$. L'équation différentielle est définie par la fonction $f(y,t)$ qui est une donnée du problème.\n",
    "\n",
    "On utilise un développement à l'ordre 1 de la fonction $y$ : $$y(t+dt)\\simeq y(t) + y'(t)dt$$\n",
    "soit\n",
    "$$y(t+dt)\\simeq y(t)+f(y(t),t)dt$$\n",
    "\n",
    "Donc connaissant la condition initiale $y(0)=y_0$ on peut calculer $y(dt)$ puis $y(2dt)$, etc.\n",
    "\n",
    "L'approximation utilisée revient à identifier la courbe représentative de $y(t)$ à sa tangente en tout point.\n",
    "\n",
    "### Programmation en python\n",
    "\n",
    "Nous allons résoudre numériquement l'équation différentielle\n",
    "$$y'+4y=0$$ \n",
    "avec $y(0)=10$.On peut en calculer la solution exacte:\n",
    "$$y(t)=10e^{-4t}$$\n",
    "On a alors $f(y,t)=-4y$ que l'on définit comme une fonction python :"
   ]
  },
  {
   "cell_type": "code",
   "execution_count": 2,
   "metadata": {
    "collapsed": true
   },
   "outputs": [],
   "source": [
    "def f(y,t):\n",
    "    return -4*y"
   ]
  },
  {
   "cell_type": "markdown",
   "metadata": {},
   "source": [
    "Puis on écrit la fonction `euler` qui calcule les valeurs successives de $y$ et $t$."
   ]
  },
  {
   "cell_type": "code",
   "execution_count": 3,
   "metadata": {
    "collapsed": true
   },
   "outputs": [],
   "source": [
    "def euler(f,y0,dt,tmax):\n",
    "    y=[y0]\n",
    "    t=[0]\n",
    "    while(t[-1]<tmax):\n",
    "        y.append(y[-1]+dt*f(y[-1],t[-1]))\n",
    "        t.append(t[-1]+dt)\n",
    "    return [t,y]"
   ]
  },
  {
   "cell_type": "markdown",
   "metadata": {},
   "source": [
    "On utilise la fonction précédente pour calculer la solution de l'équation différentielle :"
   ]
  },
  {
   "cell_type": "code",
   "execution_count": 4,
   "metadata": {
    "collapsed": true
   },
   "outputs": [],
   "source": [
    "t,y=euler(f,10,0.01,1)"
   ]
  },
  {
   "cell_type": "markdown",
   "metadata": {},
   "source": [
    "Représentons graphiquement les valeurs de $y(t)$ calculées ainsi que la solution exacte."
   ]
  },
  {
   "cell_type": "code",
   "execution_count": 5,
   "metadata": {},
   "outputs": [
    {
     "data": {
      "text/plain": [
       "[<matplotlib.lines.Line2D at 0x7f2370e15cf8>]"
      ]
     },
     "execution_count": 5,
     "metadata": {},
     "output_type": "execute_result"
    },
    {
     "data": {
      "image/png": "[encoded data removed]",
      "text/plain": [
       "<matplotlib.figure.Figure at 0x7f2370e15b70>"
      ]
     },
     "metadata": {},
     "output_type": "display_data"
    }
   ],
   "source": [
    "%matplotlib inline\n",
    "import matplotlib.pyplot as plt\n",
    "from math import *\n",
    "\n",
    "def fth(t):\n",
    "    return 10*exp(-4*t)\n",
    "\n",
    "yth = [fth(i) for i in t]\n",
    "plt.plot(t,y)\n",
    "plt.plot(t,yth)"
   ]
  },
  {
   "cell_type": "markdown",
   "metadata": {},
   "source": [
    "On peut voir l'influence du *pas* en résolvant l'équation différentielle avec des pas différents :"
   ]
  },
  {
   "cell_type": "code",
   "execution_count": 6,
   "metadata": {},
   "outputs": [
    {
     "data": {
      "text/plain": [
       "<matplotlib.legend.Legend at 0x7f2353cfab00>"
      ]
     },
     "execution_count": 6,
     "metadata": {},
     "output_type": "execute_result"
    },
    {
     "data": {
      "image/png": "[encoded data removed]",
      "text/plain": [
       "<matplotlib.figure.Figure at 0x7f2353d9c2b0>"
      ]
     },
     "metadata": {},
     "output_type": "display_data"
    }
   ],
   "source": [
    "t1,y1=euler(f,10,0.01,1)\n",
    "t2,y2=euler(f,10,0.05,1)\n",
    "t3,y3=euler(f,10,0.1,1)\n",
    "t4,y4=euler(f,10,0.2,1)\n",
    "plt.plot(t1,y1,label=\"dt=0.01\")\n",
    "plt.plot(t2,y2,label=\"dt=0.05\")\n",
    "plt.plot(t3,y3,label=\"dt=0.1\")\n",
    "plt.plot(t4,y4,label=\"dt=0.5\")\n",
    "plt.plot(t,yth)\n",
    "plt.legend()"
   ]
  },
  {
   "cell_type": "markdown",
   "metadata": {},
   "source": [
    "Il est clair que plus le pas est petit, plus la solution numérique est proche de la solution exacte.\n",
    "\n",
    "On peut également évaluer la complexité en temps de cet algorithme. La boucle principale de la fonction `euler` est executée autant de fois qu'il y a de points à calculer dans l'intervalle $[0-t_{max}]$. Soit pour un pas de $dt$ la boucle s'exécute $N=\\frac{t_{max}}{dt}$ fois. Donc plus $dt$ est faible plus le temps d'exécution du programme est grand. On ne peut donc pas choisir un pas arbitrairement petit. Il faut trouver le bon compromis entre précision de la solution et temps de calcul acceptable.\n",
    "\n",
    "> #### Exercice\n",
    "> \n",
    "> Comment modifier la fonction `euler` ci-dessus pour résoudre une équation différentielle d'ordre 2"
   ]
  },
  {
   "cell_type": "markdown",
   "metadata": {},
   "source": [
    "<a id='piles'></a>\n",
    "## Les Piles\n",
    "\n",
    "### Définition\n",
    "\n",
    "Une pile est une structure de données qui permet de stocker plusieurs éléments dans leur ordre d'arrivée et d'y accéder dans l'ordre inverse. C'est comme une pile d'assiettes : la dernière posée sur le pile est la première en en ressortir (dernier entré premier sorti, en anglais LIFO).\n",
    "\n",
    "Pour manipuler une pile on a besoin d'au moins deux fonctions : \n",
    "\n",
    "- Une fonction `push()` qui ajoute un élément au sommet de la pile ;\n",
    "- Une fonction `pop()` qui retire l'élément du sommet de la pile.\n",
    "\n",
    "On a également souvent d'autres fonctions qui permettent de savoir si une pile est vide, combien d'éléments elle contient, de vider une pile, ...\n",
    "\n",
    "On peut facilement implémenter une pile en python grace à une liste et aux fonctions `append()` qui ajoute un élément à la fin de la liste et `pop()` qui retire et renvoie l'élément en fin de liste :"
   ]
  },
  {
   "cell_type": "code",
   "execution_count": 12,
   "metadata": {},
   "outputs": [
    {
     "name": "stdout",
     "output_type": "stream",
     "text": [
      "[10, 20, 30]\n",
      "30\n",
      "[10, 20]\n",
      "20\n",
      "[10]\n"
     ]
    }
   ],
   "source": [
    "A=[]\n",
    "A.append(10)\n",
    "A.append(20)\n",
    "A.append(30)\n",
    "print(A)\n",
    "print(A.pop())\n",
    "print(A)\n",
    "print(A.pop())\n",
    "print(A)"
   ]
  },
  {
   "cell_type": "markdown",
   "metadata": {},
   "source": [
    "### Applications\n",
    "\n",
    "#### Dans l'execution d'un programme\n",
    "\n",
    "Lors de l'execution d'un programme, les instructions executées par l'ordinateur sont lues à partir de la mémoire et sont repérées par leur *adresse* dans la mémoire. Lorsqu'une instruction d'appel à une fonction est rencontrée, le programme doit *sauter* à l'adresse mémoire correspondante et continuer son execution. À la fin de l'execution de la fonction, le programme doit reprendre là où il s'était arrêté, il faut donc qu'il ait enregistré l'adresse d'où il venait avant d'arriver dans la fonction.\n",
    "\n",
    "L'enregistrement des adresses de retour se fait dans une *pile* (*stack* en anglais). Chaque appel de fonction empile l'adresse de retour et chaque retour de fonction dépille une adresse.\n",
    "\n",
    "*Remarque :* La pile a une taille finie, donc un programme ne peut appeler un nombre arbitraire de fonctions imbriquées. \n",
    "\n",
    "#### Comme structure de données\n",
    "\n",
    "Les piles sont utilisées comme structure de données par exemple pour stocker les adresses visitées par un navigateur internet, le bouton *précédent* dépile la dernière adresse visitée. Un autre exemple et la fonction d'annulation de la dernière action dans un éditeur de texte. Chaque action est empilée dans une pile et permet d'annuler toutes les actions dans l'ordre inverse."
   ]
  },
  {
   "cell_type": "markdown",
   "metadata": {},
   "source": [
    "### Exercices\n",
    "\n",
    "> #### Exercice 1 :\n",
    "> \n",
    "> Écrire une fonction python `estVide(P)` qui renvoie `True` si une pile `P` stockée sous forme de liste est vide et `False` sinon."
   ]
  },
  {
   "cell_type": "code",
   "execution_count": 13,
   "metadata": {
    "collapsed": true
   },
   "outputs": [],
   "source": [
    "def estVide(P):\n",
    "    if(len(P)==0):\n",
    "        return True\n",
    "    else:\n",
    "        return False"
   ]
  },
  {
   "cell_type": "markdown",
   "metadata": {},
   "source": [
    "> #### Exercice 2 :\n",
    "> \n",
    "> Écrire une fonction `renverse(P)` qui inverse l'ordre des éléments d'une pile `P` en utilisant uniquement les instructions `append()`, `pop()` et `estVide()`."
   ]
  },
  {
   "cell_type": "code",
   "execution_count": 16,
   "metadata": {},
   "outputs": [
    {
     "name": "stdout",
     "output_type": "stream",
     "text": [
      "[13, 12, 11, 10]\n"
     ]
    }
   ],
   "source": [
    "def renverse(P):\n",
    "    Q=[]\n",
    "    while(not estVide(P)):\n",
    "        Q.append(P.pop())\n",
    "    return Q\n",
    "\n",
    "print(renverse([10,11,12,13]))"
   ]
  },
  {
   "cell_type": "markdown",
   "metadata": {},
   "source": [
    "La complexité de cette fonction est $O(n)$ où $n$ est le nombre d'éléments de la liste `P`.\n",
    "\n",
    "> #### Exercice 3 :\n",
    "> \n",
    "> Écrire une fonction `testParentheses(chaine)` qui renvoie `True` si l'enchaînement des parenthèses, crochets ou accolades ouvrantes et fermantes de la chaine `chaine` est correcte et `False` sinon. (épreuve du challenge informatique !)"
   ]
  },
  {
   "cell_type": "markdown",
   "metadata": {},
   "source": [
    "<a id='recursivite'></a>\n",
    "## Récursivité\n",
    "\n",
    "### Définition\n",
    "\n",
    "> ### Pour comprendre la récursivité, il faut savoir ce qu'est la récursivité. \n",
    "> B. Becler\n",
    "\n",
    "Une fonction récursive est une fonction qui a besoin d'elle-même pour fonctionner, c'est une fonction qui s'appelle elle-même.\n",
    "\n",
    "### Applications\n",
    "\n",
    "Beaucoup d'algorithmes s'écrivent plus facilement de manière récursive. L'exemple classique est celui d'une fonction qui calcule la factorielle d'un entier n. En effet on a mathématiquement la définition récursive suivante :\n",
    "$$n! = n\\times(n-1)! \\;\\; \\text{avec} \\;\\; 0!=1$$\n",
    "\n",
    "Que l'on peut traduire en python de la manière suivante :"
   ]
  },
  {
   "cell_type": "code",
   "execution_count": 4,
   "metadata": {},
   "outputs": [
    {
     "name": "stdout",
     "output_type": "stream",
     "text": [
      "120\n"
     ]
    }
   ],
   "source": [
    "def fact(n):\n",
    "    if n==0 :\n",
    "        return 1\n",
    "    else:\n",
    "        return n*fact(n-1)\n",
    "\n",
    "# Testons cette fonction :\n",
    "print(fact(5))"
   ]
  },
  {
   "cell_type": "markdown",
   "metadata": {},
   "source": [
    "On peut comprendre l'exécution de la fonction précédente en lui ajoutant quelques print :"
   ]
  },
  {
   "cell_type": "code",
   "execution_count": 9,
   "metadata": {},
   "outputs": [
    {
     "name": "stdout",
     "output_type": "stream",
     "text": [
      "fact( 5 )= 5 x fact( 4 )\n",
      "fact( 4 )= 4 x fact( 3 )\n",
      "fact( 3 )= 3 x fact( 2 )\n",
      "fact( 2 )= 2 x fact( 1 )\n",
      "fact( 1 )= 1 x fact( 0 )\n",
      "fact(0)=1\n",
      "120\n"
     ]
    }
   ],
   "source": [
    "def fact(n):\n",
    "    if n==0 :\n",
    "        print(\"fact(0)=1\")\n",
    "        return 1\n",
    "    else:\n",
    "        print(\"fact(\",n,\")=\",n,\"x\",\"fact(\",n-1,\")\")\n",
    "        return n*fact(n-1)\n",
    "\n",
    "# Testons cette fonction :\n",
    "print(fact(5))"
   ]
  },
  {
   "cell_type": "markdown",
   "metadata": {},
   "source": [
    "Les suites récurentes se prètent aussi particulièrement bien (comme leur nom l'indique) à un algorithme récursif. Par exemple la suite de fibonnacci est définie par :\n",
    "\n",
    "$$ f_{n}=f_{n-1}+f_{n-2} \\quad \\text{avec} \\quad f(0)=f(1)=1$$\n",
    "\n",
    "Que l'on peut traduire par la fonction python suivante qui calcule le nième terme de la suite de fibonnacci."
   ]
  },
  {
   "cell_type": "code",
   "execution_count": 20,
   "metadata": {},
   "outputs": [
    {
     "name": "stdout",
     "output_type": "stream",
     "text": [
      "1\n",
      "1\n",
      "2\n",
      "3\n",
      "5\n",
      "8\n"
     ]
    }
   ],
   "source": [
    "def fibo(n):\n",
    "    if n==0 or n==1:\n",
    "        return 1\n",
    "    else:\n",
    "        return fibo(n-1)+fibo(n-2)\n",
    "\n",
    "for i in range(6):\n",
    "    print(fibo(i))"
   ]
  },
  {
   "cell_type": "markdown",
   "metadata": {},
   "source": [
    "> **Exercice :**\n",
    ">\n",
    ">Écrire une fonction récursive qui calcule $a^b$ ($a$ est un nombre réel et $b$ un nombre entier positif) en utilisant uniquement des multiplications. Modifier votre fonction pour qu'elle fonctionne aussi lorsque $b$ est un entier négatif."
   ]
  },
  {
   "cell_type": "markdown",
   "metadata": {},
   "source": [
    "### Avantages et inconvénients\n",
    "\n",
    "Pour voir quels sont les avantages et les inconvénients de la programmation récursive écrivons deux versions de la fonction `fibo(n)` ci-dessus.\n",
    "\n",
    "La première version est la version récursive écrite plus haut :"
   ]
  },
  {
   "cell_type": "code",
   "execution_count": 4,
   "metadata": {
    "collapsed": true
   },
   "outputs": [],
   "source": [
    "def fiboRec(n):\n",
    "    if n==0 or n==1:\n",
    "        return 1\n",
    "    else:\n",
    "        return fiboRec(n-1)+fiboRec(n-2)"
   ]
  },
  {
   "cell_type": "markdown",
   "metadata": {},
   "source": [
    "Et la seconde est une version itérative :"
   ]
  },
  {
   "cell_type": "code",
   "execution_count": 5,
   "metadata": {
    "collapsed": true
   },
   "outputs": [],
   "source": [
    "def fiboIter(n):\n",
    "    u0=1\n",
    "    u1=1\n",
    "    if n>1:\n",
    "        for i in range(n-1):\n",
    "            u0,u1=u1,u0+u1\n",
    "        return u1\n",
    "    else:\n",
    "        return 1"
   ]
  },
  {
   "cell_type": "markdown",
   "metadata": {},
   "source": [
    "Le principal avantage de la programmation de fonctions récursives est qu'elle permet très souvent d'obtenir un code très clair et concis. La fonction `fiboRec` est plus simple que sa version itérative `fiboIter`.\n",
    "\n",
    "Par contre l'écriture de fonctions récursive peut poser un certain nombre de problèmes. Le premier étant que la *profondeur de récursivité* c'est à dire le nombre d'appels récursifs d'une fonction donnée est limité. En effet à chaque appel, l'ordinateur doit conserver en mémoire la position où il se trouvait dans la fonction elle même et si le nombre d'appel récursif est grand, la quantité de données à garder en mémoire peut commencer à devenir importante. Pour mettre en évidence cette limite on peut essayer :"
   ]
  },
  {
   "cell_type": "code",
   "execution_count": 30,
   "metadata": {},
   "outputs": [
    {
     "ename": "RecursionError",
     "evalue": "maximum recursion depth exceeded in comparison",
     "output_type": "error",
     "traceback": [
      "\u001b[0;31m---------------------------------------------------------------------------\u001b[0m",
      "\u001b[0;31mRecursionError\u001b[0m                            Traceback (most recent call last)",
      "\u001b[0;32m<ipython-input-30-958ef298020c>\u001b[0m in \u001b[0;36m<module>\u001b[0;34m()\u001b[0m\n\u001b[0;32m----> 1\u001b[0;31m \u001b[0mfiboRec\u001b[0m\u001b[0;34m(\u001b[0m\u001b[0;36m1000\u001b[0m\u001b[0;34m)\u001b[0m\u001b[0;34m\u001b[0m\u001b[0m\n\u001b[0m",
      "\u001b[0;32m<ipython-input-21-28081d127880>\u001b[0m in \u001b[0;36mfiboRec\u001b[0;34m(n)\u001b[0m\n\u001b[1;32m      3\u001b[0m         \u001b[0;32mreturn\u001b[0m \u001b[0;36m1\u001b[0m\u001b[0;34m\u001b[0m\u001b[0m\n\u001b[1;32m      4\u001b[0m     \u001b[0;32melse\u001b[0m\u001b[0;34m:\u001b[0m\u001b[0;34m\u001b[0m\u001b[0m\n\u001b[0;32m----> 5\u001b[0;31m         \u001b[0;32mreturn\u001b[0m \u001b[0mfibo\u001b[0m\u001b[0;34m(\u001b[0m\u001b[0mn\u001b[0m\u001b[0;34m-\u001b[0m\u001b[0;36m1\u001b[0m\u001b[0;34m)\u001b[0m\u001b[0;34m+\u001b[0m\u001b[0mfibo\u001b[0m\u001b[0;34m(\u001b[0m\u001b[0mn\u001b[0m\u001b[0;34m-\u001b[0m\u001b[0;36m2\u001b[0m\u001b[0;34m)\u001b[0m\u001b[0;34m\u001b[0m\u001b[0m\n\u001b[0m",
      "\u001b[0;32m<ipython-input-20-eefdcb4895bb>\u001b[0m in \u001b[0;36mfibo\u001b[0;34m(n)\u001b[0m\n\u001b[1;32m      3\u001b[0m         \u001b[0;32mreturn\u001b[0m \u001b[0;36m1\u001b[0m\u001b[0;34m\u001b[0m\u001b[0m\n\u001b[1;32m      4\u001b[0m     \u001b[0;32melse\u001b[0m\u001b[0;34m:\u001b[0m\u001b[0;34m\u001b[0m\u001b[0m\n\u001b[0;32m----> 5\u001b[0;31m         \u001b[0;32mreturn\u001b[0m \u001b[0mfibo\u001b[0m\u001b[0;34m(\u001b[0m\u001b[0mn\u001b[0m\u001b[0;34m-\u001b[0m\u001b[0;36m1\u001b[0m\u001b[0;34m)\u001b[0m\u001b[0;34m+\u001b[0m\u001b[0mfibo\u001b[0m\u001b[0;34m(\u001b[0m\u001b[0mn\u001b[0m\u001b[0;34m-\u001b[0m\u001b[0;36m2\u001b[0m\u001b[0;34m)\u001b[0m\u001b[0;34m\u001b[0m\u001b[0m\n\u001b[0m\u001b[1;32m      6\u001b[0m \u001b[0;34m\u001b[0m\u001b[0m\n\u001b[1;32m      7\u001b[0m \u001b[0;32mfor\u001b[0m \u001b[0mi\u001b[0m \u001b[0;32min\u001b[0m \u001b[0mrange\u001b[0m\u001b[0;34m(\u001b[0m\u001b[0;36m6\u001b[0m\u001b[0;34m)\u001b[0m\u001b[0;34m:\u001b[0m\u001b[0;34m\u001b[0m\u001b[0m\n",
      "... last 1 frames repeated, from the frame below ...\n",
      "\u001b[0;32m<ipython-input-20-eefdcb4895bb>\u001b[0m in \u001b[0;36mfibo\u001b[0;34m(n)\u001b[0m\n\u001b[1;32m      3\u001b[0m         \u001b[0;32mreturn\u001b[0m \u001b[0;36m1\u001b[0m\u001b[0;34m\u001b[0m\u001b[0m\n\u001b[1;32m      4\u001b[0m     \u001b[0;32melse\u001b[0m\u001b[0;34m:\u001b[0m\u001b[0;34m\u001b[0m\u001b[0m\n\u001b[0;32m----> 5\u001b[0;31m         \u001b[0;32mreturn\u001b[0m \u001b[0mfibo\u001b[0m\u001b[0;34m(\u001b[0m\u001b[0mn\u001b[0m\u001b[0;34m-\u001b[0m\u001b[0;36m1\u001b[0m\u001b[0;34m)\u001b[0m\u001b[0;34m+\u001b[0m\u001b[0mfibo\u001b[0m\u001b[0;34m(\u001b[0m\u001b[0mn\u001b[0m\u001b[0;34m-\u001b[0m\u001b[0;36m2\u001b[0m\u001b[0;34m)\u001b[0m\u001b[0;34m\u001b[0m\u001b[0m\n\u001b[0m\u001b[1;32m      6\u001b[0m \u001b[0;34m\u001b[0m\u001b[0m\n\u001b[1;32m      7\u001b[0m \u001b[0;32mfor\u001b[0m \u001b[0mi\u001b[0m \u001b[0;32min\u001b[0m \u001b[0mrange\u001b[0m\u001b[0;34m(\u001b[0m\u001b[0;36m6\u001b[0m\u001b[0;34m)\u001b[0m\u001b[0;34m:\u001b[0m\u001b[0;34m\u001b[0m\u001b[0m\n",
      "\u001b[0;31mRecursionError\u001b[0m: maximum recursion depth exceeded in comparison"
     ]
    }
   ],
   "source": [
    "fiboRec(1000)"
   ]
  },
  {
   "cell_type": "markdown",
   "metadata": {},
   "source": [
    "Alors que la fonction itérative ne pose pas ce problème :"
   ]
  },
  {
   "cell_type": "code",
   "execution_count": 6,
   "metadata": {},
   "outputs": [
    {
     "data": {
      "text/plain": [
       "70330367711422815821835254877183549770181269836358732742604905087154537118196933579742249494562611733487750449241765991088186363265450223647106012053374121273867339111198139373125598767690091902245245323403501"
      ]
     },
     "execution_count": 6,
     "metadata": {},
     "output_type": "execute_result"
    }
   ],
   "source": [
    "fiboIter(1000)"
   ]
  },
  {
   "cell_type": "markdown",
   "metadata": {},
   "source": [
    "Le second problème est qu'une fonction récursive peut être beaucoup moins performante qu'une fonction itérative. À titre d'exemple, comparons le temps d'exécution des deux versions de la fonction `fibo`"
   ]
  },
  {
   "cell_type": "code",
   "execution_count": 21,
   "metadata": {},
   "outputs": [
    {
     "name": "stdout",
     "output_type": "stream",
     "text": [
      "10000 loops, best of 3: 60.6 µs per loop\n"
     ]
    }
   ],
   "source": [
    "%%timeit\n",
    "fiboRec(10)"
   ]
  },
  {
   "cell_type": "code",
   "execution_count": 20,
   "metadata": {},
   "outputs": [
    {
     "name": "stdout",
     "output_type": "stream",
     "text": [
      "The slowest run took 4.47 times longer than the fastest. This could mean that an intermediate result is being cached.\n",
      "100000 loops, best of 3: 1.88 µs per loop\n"
     ]
    }
   ],
   "source": [
    "%%timeit\n",
    "fiboIter(10)"
   ]
  },
  {
   "cell_type": "markdown",
   "metadata": {},
   "source": [
    "La version itérative de la fonction s'execute environ 30 fois plus rapidement que la version itérative. Pour comprendre pourquoi déterminons la complexité de ces deux versions.\n",
    "\n",
    "#### Version itérative\n",
    "La boucle principale de la fonction est exécutée $n-1$ fois donc la complexité est $C_{iter}=O(n)$. La complexité de cette fonction est donc linéaire. Vérifions-le expérimentalement :"
   ]
  },
  {
   "cell_type": "code",
   "execution_count": 33,
   "metadata": {
    "collapsed": true
   },
   "outputs": [],
   "source": [
    "def sansArgument(f,n):\n",
    "    def fonc():\n",
    "        return f(n)\n",
    "    return fonc\n",
    "\n",
    "import timeit\n",
    "tpsIter=[]\n",
    "for i in range(3,200):\n",
    "    tpsIter.append(timeit.timeit(sansArgument(fiboIter,i),number=1000))"
   ]
  },
  {
   "cell_type": "code",
   "execution_count": 34,
   "metadata": {},
   "outputs": [
    {
     "data": {
      "text/plain": [
       "[<matplotlib.lines.Line2D at 0x7f5d3f5fdef0>]"
      ]
     },
     "execution_count": 34,
     "metadata": {},
     "output_type": "execute_result"
    },
    {
     "data": {
      "image/png": "[encoded data removed]",
      "text/plain": [
       "<matplotlib.figure.Figure at 0x7f5d3f3da198>"
      ]
     },
     "metadata": {},
     "output_type": "display_data"
    }
   ],
   "source": [
    "%matplotlib inline\n",
    "import matplotlib.pyplot as plt\n",
    "from scipy.optimize import curve_fit\n",
    "x=[float(v) for v in range(3,200)]\n",
    "def f(x,a,b):\n",
    "    return a*x+b\n",
    "p,c=curve_fit(f,x,tpsIter)\n",
    "fit=[f(v,p[0],p[1]) for v in range(3,200)]\n",
    "plt.plot(tpsIter)\n",
    "plt.plot(fit)"
   ]
  },
  {
   "cell_type": "markdown",
   "metadata": {},
   "source": [
    "#### Version récursive\n",
    "Appelons $C_{rec}(n)$ la complexité de la fonction `fiboRec(n)`. On a la relation de récurence :\n",
    "\n",
    "$$C_{rec}(n) = C_{rec}(n-1) + C_{rec}(n-2) \\quad \\text{avec} \\quad C_{rec}(0)=C_{rec}(1)=1$$\n",
    "\n",
    "Qui est exactement la relation de récurence définissant la suite de Fibonacci. Donc $C_{rec}(n)=\\text{fibo}(n)$, or on sait que le nième terme de la suite de Fibonacci est donné par la [formule de Binet](https://fr.wikipedia.org/wiki/Jacques_Philippe_Marie_Binet#Formule_de_Binet) :\n",
    "\n",
    "$$\n",
    "\\mathcal F_n=\\frac1{\\sqrt5}(\\varphi^n-\\varphi'^n),\\qquad\\text{avec}\\qquad\\varphi=\\frac{1+\\sqrt5}2\\qquad\\text{et}\\qquad \\varphi'=-\\frac1\\varphi.\n",
    "$$\n",
    "\n",
    "Donc finalement $C_{rec}(n)=\\mathcal F_n = O(\\varphi^n)$ qui est une complexité exponentielle. Vérifions-le expérimentalement :"
   ]
  },
  {
   "cell_type": "code",
   "execution_count": 39,
   "metadata": {
    "collapsed": true
   },
   "outputs": [],
   "source": [
    "tpsRecur=[]\n",
    "for i in range(30):\n",
    "    tpsRecur.append(timeit.timeit(sansArgument(fiboRec,i),number=1))"
   ]
  },
  {
   "cell_type": "code",
   "execution_count": 40,
   "metadata": {},
   "outputs": [
    {
     "name": "stdout",
     "output_type": "stream",
     "text": [
      "[  6.74559469e-07   2.12149075e+00]\n"
     ]
    },
    {
     "data": {
      "image/png": "[encoded data removed]",
      "text/plain": [
       "<matplotlib.figure.Figure at 0x7f5d3f3b2be0>"
      ]
     },
     "metadata": {},
     "output_type": "display_data"
    }
   ],
   "source": [
    "%matplotlib inline\n",
    "import matplotlib.pyplot as plt\n",
    "from scipy.optimize import curve_fit\n",
    "import numpy as np\n",
    "from math import *\n",
    "def g(x,a,b):\n",
    "    return a*exp(x/b)\n",
    "x=[float(v) for v in range(30)]\n",
    "p,c=curve_fit(np.vectorize(g),x,tpsRecur,[1,2])\n",
    "fitExp=[g(v,p[0],p[1]) for v in range(30)]\n",
    "plt.plot(tpsRecur)\n",
    "plt.plot(fitExp)\n",
    "print(p)"
   ]
  },
  {
   "cell_type": "markdown",
   "metadata": {},
   "source": [
    ">  #### Exercices :\n",
    "\n",
    "> Écrire une fonction récursive qui détermine si une chaine de caractères est un palindrôme. Un palindrôme est une chaine de caractères qui se lit de la même manière dans les deux sens comme 'radar'\n",
    "\n",
    "> Écrire une fonction récursive qui calcule la valeur d'un nombre stocké dans une chaîne de caractères.\n",
    "\n",
    "> Écrire une fonction récursive qui effectue la division euclidienne d'un nombre entier `a` par un autre nombre entier `b` et renvoie le quotient et le reste.\n",
    "\n",
    "> Utiliser la bibliothèque [turtle](https://docs.python.org/3.6/library/turtle.html) et des fonctions récursives pour dessiner les figures fractales ci-dessous:\n",
    "\n",
    "![Fractale 1](images/IMG-fract.png)\n",
    "\n",
    "Pour dessiner cette fractale, on commence par écrire une fonction `triangle(x,y,s)` qui dessine un triangle de côté `s` et de coordonnées `x` et `y`. \n",
    "\n",
    "Puis on écrit une fonction `fractale(x,y,s,n)` qui :\n",
    "- Dessine appelle la fonction `triangle(x,y,s)` si $n=0$ ;\n",
    "- Dessine trois fractales d'ordre `n-1` et de taille `s/2` disposées en triangle si $n>0$\n",
    "\n",
    "![Fractale 2](images/IMG-fract2.png)\n",
    "\n",
    "Cette fractale est composée de 3 segments fractales qui forment un triangle."
   ]
  },
  {
   "cell_type": "markdown",
   "metadata": {},
   "source": [
    "<a id='tris'></a>\n",
    "## Algorithmes de tri\n",
    "\n",
    "Lorsqu'on doit traiter des nombres (ou autres données) stockés dans un tableau, il peut être très intéressant de trier au préalable les données, c'est à dire de les ré-organiser les nombres dans le tableau du plus petit au plus grand. Par exemple on a vu en première année que rechercher un élément dans un tableau trié par dichotomie est très efficace (complexité logarithmique).\n",
    "\n",
    "Dans cette partie nous allons nous intéresser à 3 algorithmes de tri très classiques et nous analyserons leur complexité.\n",
    "\n",
    "<a id='triInsertion'></a>\n",
    "### Tri par insertion\n",
    "\n",
    "#### Algorithme\n",
    "\n",
    "Le tri par insertion est l'algorithme utilisé naturellement pour trier une main dans un jeu de cartes. On considère tous les éléments l'un après l'autre et on l'insère à sa place dans la partie déjà triée : les éléments situés avant l'élément sélectionné. \n",
    "\n",
    "On peut représenter l'algorithme sur l'animation suivante :\n",
    "\n",
    "![Tri par insertion](https://upload.wikimedia.org/wikipedia/commons/thumb/0/0f/Insertion-sort-example-300px.gif/220px-Insertion-sort-example-300px.gif)\n",
    "\n",
    "On peut traduire cet algorithme par le programme python suivant qui trie un tableau T :"
   ]
  },
  {
   "cell_type": "code",
   "execution_count": 12,
   "metadata": {},
   "outputs": [
    {
     "data": {
      "text/plain": [
       "[0, 1, 2, 3, 5, 5, 7, 12, 25, 43]"
      ]
     },
     "execution_count": 12,
     "metadata": {},
     "output_type": "execute_result"
    }
   ],
   "source": [
    "def tri_insertion(T):\n",
    "    for i in range(len(T)):\n",
    "        e=T[i]\n",
    "        j=i\n",
    "        while(j>0 and T[j-1]>e):\n",
    "            T[j]=T[j-1]\n",
    "            j=j-1\n",
    "        T[j]=e\n",
    "    return T\n",
    "\n",
    "tri_insertion([2,5,7,3,5,1,12,0,43,25])\n"
   ]
  },
  {
   "cell_type": "markdown",
   "metadata": {},
   "source": [
    "#### Étude de la complexité\n",
    "\n",
    "Nous allons chercher à déterminer la complexité dans le pire et le meilleur des cas de l'algorithme de tri par insertion.\n",
    "\n",
    "Le meilleur des cas est celui où le tableau est déjà trié. Dans ce cas il n'y aura aucun décalage à faire dans la boucle `while` interne et on effectuera seulement $n$ itérations de la boucle `for` et dans ce cas la complexité est linéaire ($O(n)$)\n",
    "\n",
    "Le pire des cas est celui où le tableau est trié dans l'ordre inverse (du plus grand au plus petit) et dans ces conditions à chaque itérations de la boucle `for` le nombre d'itérations de la boucle `while` est égal à l'indice `i` de la boucle `for`. La complexité sera alors\n",
    "\n",
    "$$ C=\\sum_{i=0}^{n-1}i=\\frac{n(n-1)}{2} = O(n^2) $$\n",
    "\n",
    "Dans ce cas la complexité est quadratique.\n",
    "\n",
    "On peut montrer qu'en moyenne, la complexité du tri par insertion est également quadratique (en moyenne la boucle `while` est executée $i/2$ fois)\n",
    "\n",
    "Le tri par insertion est très efficace sur un tableau presque trié car il ne va modifier la place que des éléments qui ne sont pas à leur place.\n",
    "\n",
    "Vérifions cela expérimentalement en mesurant le temps d'exécution de l'algorithme de tri par insertion :"
   ]
  },
  {
   "cell_type": "code",
   "execution_count": 58,
   "metadata": {
    "collapsed": true
   },
   "outputs": [],
   "source": [
    "from random import *\n",
    "import timeit\n",
    "\n",
    "def sansArgumentTabl(f,T):\n",
    "    def fonc():\n",
    "        return f(T)\n",
    "    return fonc\n",
    "\n",
    "def tableau_aleat(n):\n",
    "    return [randint(0,1000000) for i in range(n)]\n",
    "\n",
    "tpsInsert=[]\n",
    "for i in range(500):\n",
    "    T=tableau_aleat(i)\n",
    "    tpsInsert.append(timeit.timeit(sansArgumentTabl(tri_insertion,T),number=3))\n",
    "    "
   ]
  },
  {
   "cell_type": "code",
   "execution_count": 59,
   "metadata": {},
   "outputs": [
    {
     "data": {
      "image/png": "[encoded data removed]",
      "text/plain": [
       "<matplotlib.figure.Figure at 0x7f5712429198>"
      ]
     },
     "metadata": {},
     "output_type": "display_data"
    }
   ],
   "source": [
    "%matplotlib inline\n",
    "import matplotlib.pyplot as plt\n",
    "from scipy.optimize import curve_fit\n",
    "import numpy as np\n",
    "from math import *\n",
    "def g(x,a):\n",
    "    return a*x**2\n",
    "x=[float(v) for v in range(500)]\n",
    "p,c=curve_fit(np.vectorize(g),x,tpsInsert,[1])\n",
    "fitCarre=[g(v,p[0]) for v in range(500)]\n",
    "plt.plot(tpsInsert)\n",
    "plt.plot(fitCarre)\n",
    "plt.show()"
   ]
  },
  {
   "cell_type": "code",
   "execution_count": 55,
   "metadata": {},
   "outputs": [
    {
     "name": "stdout",
     "output_type": "stream",
     "text": [
      "[  8.06726422e-08]\n"
     ]
    }
   ],
   "source": [
    "print(p)"
   ]
  },
  {
   "cell_type": "markdown",
   "metadata": {},
   "source": [
    "##### Exercice\n",
    "> Modifier le programme précédent pour \"mesurer expérimentalement\" la complexité dans le cas où la la liste est déjà triée et dans le cas où elle est \"presque\" triée (seulement un nombre fixe d'inversions)"
   ]
  },
  {
   "cell_type": "markdown",
   "metadata": {},
   "source": [
    "<a id='triRapide'></a>\n",
    "### Tri rapide\n",
    "\n",
    "Le tri rapide est un tri très utilisé car comme son nom l'indique il est rapide. On peu montrer qu'en moyenne, la complexité du tri rapide est semi-linéaire ($O(n\\log(n)$)\n",
    "\n",
    "#### Algorithme\n",
    "\n",
    "##### Partitionnement d'un sous-tableau\n",
    "\n",
    "Le tri rapide repose sur une stratégie de type \"diviser pour régner\". Il consiste à *partitionner* le tableau à trier, puis à partitionner les sous-tableaux, etc.\n",
    "\n",
    "Partitionner un tableau consiste à choisir un élément `p` appelé *pivot* que l'on va mettre à sa place dans le tableau. C'est à dire qu'il est supérieur ou égal à tous les éléments situés avant lui et strictement inférieur à tous les éléments situés après lui.\n",
    "\n",
    "On donne ci-dessous un exemple de partitionnement d'un tableau de quelques valeurs. Le pivot choisi est le 5.\n",
    "\n",
    "![Partitionnement](https://upload.wikimedia.org/wikipedia/commons/thumb/8/84/Partition_example.svg/280px-Partition_example.svg.png)\n",
    "\n",
    "En python, on peut traduire l'algorithme de la manière suivante :"
   ]
  },
  {
   "cell_type": "code",
   "execution_count": 67,
   "metadata": {},
   "outputs": [
    {
     "name": "stdout",
     "output_type": "stream",
     "text": [
      "5\n",
      "[3, 4, 2, 1, 5, 5, 9, 8, 7]\n"
     ]
    }
   ],
   "source": [
    "def partitionner(T,pi,di,pivot):\n",
    "    \"Partitionner le sous-tableau contenu entre les indices pi et di en utilisant le pivot fourni\"\n",
    "    # On commence par mettre le pivot à la fin du tableau : échange avec le dernier élément\n",
    "    T[pivot],T[di] = T[di],T[pivot]\n",
    "    j=pi  # Position où insérer un élément plus petit que le pivot\n",
    "    for i in range(pi,di):\n",
    "        if T[i]<=T[di]:         # T[di] contient le pivot. Si l'élément en cours est plus petit que le pivot\n",
    "            T[i],T[j]=T[j],T[i] # On le place en position j : échange les éléments i et j\n",
    "            j=j+1               # le prochain élément plus petit sera mis à droite de celui-ci\n",
    "    T[di],T[j] = T[j],T[di]     # On place le pivot à sa place\n",
    "    return j                    # Renvoie la position du pivot\n",
    "\n",
    "T=[3,7,8,5,2,1,9,5,4]\n",
    "print(partitionner(T,0,len(T)-1,3))\n",
    "print(T)"
   ]
  },
  {
   "cell_type": "markdown",
   "metadata": {},
   "source": [
    "##### Tri rapide\n",
    "\n",
    "Le tri rapide consiste alors à partitionner successivement les sous-tableaux issus des partitions précédentes. Dans l'exemple précédent on continuerait en partitionnant le sous-tableau `[3,4,2,1,5]` et le sous-tableau `[9,8,7]`. Et ainsi de suite.\n",
    "\n",
    "En python on obtient la fonction récursive suivante:"
   ]
  },
  {
   "cell_type": "code",
   "execution_count": 97,
   "metadata": {},
   "outputs": [
    {
     "name": "stdout",
     "output_type": "stream",
     "text": [
      "[33, 91, 59, 84, 74, 100, 68, 90, 59, 60, 80, 15, 23, 52, 68, 53, 8, 14, 0, 19]\n",
      "[0, 8, 14, 15, 19, 23, 33, 52, 53, 59, 59, 60, 68, 68, 74, 80, 84, 90, 91, 100]\n"
     ]
    }
   ],
   "source": [
    "from random import *\n",
    "def choix_pivot(T,pi,di):\n",
    "    #return di\n",
    "    return randint(pi,di)\n",
    "\n",
    "def tri_rapide(T,pi,di):\n",
    "    pivot = choix_pivot(T,pi,di)\n",
    "    sep = partitionner(T,pi,di,pivot)\n",
    "    if sep-1>pi:\n",
    "        tri_rapide(T,pi,sep-1)\n",
    "    if di>sep+1:\n",
    "        tri_rapide(T,sep+1,di)\n",
    "    return T\n",
    "\n",
    "# Test de la fonction\n",
    "from random import *\n",
    "T=[randint(0,100) for i in range(20)] # Une liste de 20 nombres entiers aléatoires \n",
    "print(T)\n",
    "tri_rapide(T,0,len(T)-1)\n",
    "print(T)"
   ]
  },
  {
   "cell_type": "markdown",
   "metadata": {},
   "source": [
    "#### Complexité"
   ]
  },
  {
   "cell_type": "code",
   "execution_count": 99,
   "metadata": {
    "collapsed": true
   },
   "outputs": [],
   "source": [
    "from random import *\n",
    "import timeit\n",
    "\n",
    "def tri_rap(T):\n",
    "    return tri_rapide(T,0,len(T)-1)\n",
    "\n",
    "def sansArgumentTabl(f,T):\n",
    "    def fonc():\n",
    "        return f(T)\n",
    "    return fonc\n",
    "\n",
    "def tableau_aleat(n):\n",
    "    return [randint(0,1000000) for i in range(n)]\n",
    "\n",
    "tpsRapide=[]\n",
    "for i in range(2,500):\n",
    "    T=tableau_aleat(i)\n",
    "    tpsRapide.append(timeit.timeit(sansArgumentTabl(tri_rap,T),number=3))\n",
    "    \n"
   ]
  },
  {
   "cell_type": "code",
   "execution_count": 100,
   "metadata": {},
   "outputs": [
    {
     "data": {
      "image/png": "[encoded data removed]",
      "text/plain": [
       "<matplotlib.figure.Figure at 0x7f570c2c0b70>"
      ]
     },
     "metadata": {},
     "output_type": "display_data"
    }
   ],
   "source": [
    "%matplotlib inline\n",
    "import matplotlib.pyplot as plt\n",
    "from scipy.optimize import curve_fit\n",
    "import numpy as np\n",
    "from math import *\n",
    "def g(x,a):\n",
    "    return a*x*log(x)\n",
    "x=[float(v) for v in range(2,500)]\n",
    "p,c=curve_fit(np.vectorize(g),x,tpsRapide,[1])\n",
    "fitSemiLin=[g(v,p[0]) for v in range(2,500)]\n",
    "plt.plot(tpsRapide)\n",
    "plt.plot(fitSemiLin)\n",
    "plt.show()"
   ]
  },
  {
   "cell_type": "markdown",
   "metadata": {},
   "source": [
    "<a id='triFusion'></a>\n",
    "### Tri fusion\n",
    "\n",
    "Le tri fusion repose également sur une stratégie de type \"diviser pour régner\" suivant l'algorithme ci-dessous:\n",
    " \n",
    " 1) On sépare la liste à trier en deux parties L1 et L2\n",
    " \n",
    " 2) Si L1 contient plus d'un élément, on la trie (point 1)\n",
    " \n",
    " 3) Si L2 contient plus d'un élément, on la trie (point 1)\n",
    " \n",
    " 4) On fusionne les deux listes triées.\n",
    " \n",
    "![Tri fusion](https://upload.wikimedia.org/wikipedia/commons/6/60/Mergesort_algorithm_diagram.png)\n",
    " \n",
    "Pour utiliser cet algorithme on aura besoin d'une fonction auxiliaire `fusion(L1,L2)` qui fusionne deux listes `L1` et `L2` triées."
   ]
  },
  {
   "cell_type": "code",
   "execution_count": 4,
   "metadata": {},
   "outputs": [
    {
     "name": "stdout",
     "output_type": "stream",
     "text": [
      "[1, 4, 5, 8, 9, 10, 14, 45, 46]\n"
     ]
    }
   ],
   "source": [
    "def fusion(L1,L2):\n",
    "    res=[]\n",
    "    i=0\n",
    "    j=0\n",
    "    while i<len(L1) or j<len(L2) :\n",
    "        if j==len(L2):\n",
    "            res.append(L1[i])\n",
    "            i=i+1\n",
    "        elif i==len(L1):\n",
    "            res.append(L2[j])\n",
    "            j=j+1\n",
    "        else:\n",
    "            if L1[i]<L2[j]:\n",
    "                res.append(L1[i])\n",
    "                i=i+1\n",
    "            else:\n",
    "                res.append(L2[j])\n",
    "                j=j+1\n",
    "    return res\n",
    "\n",
    "print(fusion([1,5,9,14],[4,8,10,45,46]))"
   ]
  },
  {
   "cell_type": "markdown",
   "metadata": {},
   "source": [
    "L'algorithme de tri fusion s'écrit alors facilement de manière récursive: "
   ]
  },
  {
   "cell_type": "code",
   "execution_count": 9,
   "metadata": {},
   "outputs": [
    {
     "name": "stdout",
     "output_type": "stream",
     "text": [
      "[-1, 2, 2, 3, 5, 6, 7, 9, 10, 143]\n"
     ]
    }
   ],
   "source": [
    "def triFusion(L):\n",
    "    if len(L)<2:\n",
    "        return L\n",
    "    else:\n",
    "        m=int(len(L)/2)\n",
    "        L1=L[0:m]\n",
    "        L2=L[m:]\n",
    "        return fusion(triFusion(L1),triFusion(L2))\n",
    "    \n",
    "print(triFusion([2,6,9,3,5,2,7,10,-1,143]))"
   ]
  },
  {
   "cell_type": "markdown",
   "metadata": {},
   "source": [
    "On peut prouver que l'algorithme s'arrête effectivement car à la taille de la liste à trier diminue strictement à chaque appel récursif."
   ]
  },
  {
   "cell_type": "markdown",
   "metadata": {},
   "source": [
    "#### Complexité\n",
    "\n",
    "La complexité de l'algorithme de fusion de deux listes dont la somme des longueurs est n et linéaire (Car on ne parcourt qu'une fois les deux listes). Notons $C(n)$ la complexité de la fonction `fusion(L1,L2)` où $n=Len(L1)+Len(L2)$\n",
    "\n",
    "La complexité de la fonction `triFusion(L)` est notée $\\Gamma(n)$ avec `n=Len(L)`. $\\Gamma(n)$ satisfait la relation de récurence :\n",
    "$$ \\Gamma(n) = C(n)+2\\Gamma(n/2) $$\n",
    "\n",
    "donc en développant cette relation on a :\n",
    "\n",
    "$$ \\Gamma(n) = C(n) + 2C(n/2) + 4C(n/4) + \\ldots + 2^kC(n/2^k) + 2^k\\Gamma(n/2^{k+1})$$\n",
    "\n",
    "avec $k=log_2(n)$. Donc \n",
    "\n",
    "$$ \\Gamma(n) = log_2(n)C(n) + n\\Gamma(0) = O(n log(n)) $$\n",
    "\n",
    "Et ce résultat est le même quel que soit la liste d'entrée. "
   ]
  }
 ],
 "metadata": {
  "celltoolbar": "Hide code",
  "kernelspec": {
   "display_name": "Python 3",
   "language": "python",
   "name": "python3"
  },
  "language_info": {
   "codemirror_mode": {
    "name": "ipython",
    "version": 3
   },
   "file_extension": ".py",
   "mimetype": "text/x-python",
   "name": "python",
   "nbconvert_exporter": "python",
   "pygments_lexer": "ipython3",
   "version": "3.6.3"
  }
 },
 "nbformat": 4,
 "nbformat_minor": 1
}
